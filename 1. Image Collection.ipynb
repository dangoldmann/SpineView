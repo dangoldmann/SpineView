{
 "cells": [
  {
   "cell_type": "markdown",
   "metadata": {},
   "source": [
    "# 1. Import Dependencies"
   ]
  },
  {
   "cell_type": "code",
   "execution_count": 1,
   "metadata": {},
   "outputs": [
    {
     "name": "stdout",
     "output_type": "stream",
     "text": [
      "Requirement already satisfied: opencv-python in d:\\programas\\osia\\tfod\\lib\\site-packages (4.6.0.66)\n",
      "Requirement already satisfied: numpy>=1.17.3 in d:\\programas\\osia\\tfod\\lib\\site-packages (from opencv-python) (1.23.3)\n"
     ]
    }
   ],
   "source": [
    "!pip install opencv-python"
   ]
  },
  {
   "cell_type": "code",
   "execution_count": 2,
   "metadata": {},
   "outputs": [],
   "source": [
    "# Import opencv\n",
    "import cv2 \n",
    "\n",
    "# Import uuid\n",
    "import uuid\n",
    "\n",
    "# Import Operating System\n",
    "import os\n",
    "\n",
    "# Import time\n",
    "import time"
   ]
  },
  {
   "cell_type": "markdown",
   "metadata": {},
   "source": [
    "# 2. Define Images to Collect"
   ]
  },
  {
   "cell_type": "code",
   "execution_count": 3,
   "metadata": {},
   "outputs": [],
   "source": [
    "labels = ['up', 'down', 'hello', 'villa']\n",
    "number_imgs = 5"
   ]
  },
  {
   "cell_type": "markdown",
   "metadata": {},
   "source": [
    "# 3. Setup Folders "
   ]
  },
  {
   "cell_type": "code",
   "execution_count": 4,
   "metadata": {},
   "outputs": [],
   "source": [
    "IMAGES_PATH = os.path.join('Tensorflow', 'workspace', 'images', 'collectedimages')"
   ]
  },
  {
   "cell_type": "code",
   "execution_count": 5,
   "metadata": {},
   "outputs": [],
   "source": [
    "if not os.path.exists(IMAGES_PATH):\n",
    "    if os.name == 'posix':\n",
    "        !mkdir -p {IMAGES_PATH}\n",
    "    if os.name == 'nt':\n",
    "         !mkdir {IMAGES_PATH}\n",
    "for label in labels:\n",
    "    path = os.path.join(IMAGES_PATH, label)\n",
    "    if not os.path.exists(path):\n",
    "        !mkdir {path}"
   ]
  },
  {
   "cell_type": "markdown",
   "metadata": {},
   "source": [
    "# 4. Capture Images"
   ]
  },
  {
   "cell_type": "code",
   "execution_count": 7,
   "metadata": {},
   "outputs": [
    {
     "name": "stdout",
     "output_type": "stream",
     "text": [
      "Collecting images for up\n",
      "Collecting image 0\n",
      "Collecting image 1\n",
      "Collecting image 2\n",
      "Collecting image 3\n",
      "Collecting image 4\n",
      "Collecting images for down\n",
      "Collecting image 0\n",
      "Collecting image 1\n",
      "Collecting image 2\n",
      "Collecting image 3\n",
      "Collecting image 4\n",
      "Collecting images for hello\n",
      "Collecting image 0\n",
      "Collecting image 1\n",
      "Collecting image 2\n",
      "Collecting image 3\n",
      "Collecting image 4\n",
      "Collecting images for villa\n",
      "Collecting image 0\n",
      "Collecting image 1\n",
      "Collecting image 2\n",
      "Collecting image 3\n",
      "Collecting image 4\n"
     ]
    }
   ],
   "source": [
    "for label in labels:\n",
    "    cap = cv2.VideoCapture(0)\n",
    "    print('Collecting images for {}'.format(label))\n",
    "    time.sleep(5)\n",
    "    for imgnum in range(number_imgs):\n",
    "        print('Collecting image {}'.format(imgnum))\n",
    "        ret, frame = cap.read()\n",
    "        imgname = os.path.join(IMAGES_PATH,label,label+'.'+'{}.jpg'.format(str(uuid.uuid1())))\n",
    "        cv2.imwrite(imgname, frame)\n",
    "        cv2.imshow('frame', frame)\n",
    "        time.sleep(2)\n",
    "\n",
    "        if cv2.waitKey(1) & 0xFF == ord('q'):\n",
    "            break\n",
    "cap.release()\n",
    "cv2.destroyAllWindows()"
   ]
  },
  {
   "cell_type": "markdown",
   "metadata": {},
   "source": [
    "# 5. Image Labelling"
   ]
  },
  {
   "cell_type": "code",
   "execution_count": 8,
   "metadata": {},
   "outputs": [
    {
     "name": "stdout",
     "output_type": "stream",
     "text": [
      "Collecting pyqt5\n",
      "  Using cached PyQt5-5.15.7-cp37-abi3-win_amd64.whl (6.8 MB)\n",
      "Collecting lxml\n",
      "  Using cached lxml-4.9.1-cp310-cp310-win_amd64.whl (3.6 MB)\n",
      "Collecting PyQt5-Qt5>=5.15.0\n",
      "  Using cached PyQt5_Qt5-5.15.2-py3-none-win_amd64.whl (50.1 MB)\n",
      "Collecting PyQt5-sip<13,>=12.11\n",
      "  Using cached PyQt5_sip-12.11.0-cp310-cp310-win_amd64.whl (78 kB)\n",
      "Installing collected packages: PyQt5-Qt5, PyQt5-sip, lxml, pyqt5\n",
      "Successfully installed PyQt5-Qt5-5.15.2 PyQt5-sip-12.11.0 lxml-4.9.1 pyqt5-5.15.7\n"
     ]
    }
   ],
   "source": [
    "!pip install --upgrade pyqt5 lxml"
   ]
  },
  {
   "cell_type": "code",
   "execution_count": 9,
   "metadata": {},
   "outputs": [],
   "source": [
    "LABELIMG_PATH = os.path.join('Tensorflow', 'labelimg')"
   ]
  },
  {
   "cell_type": "code",
   "execution_count": 10,
   "metadata": {},
   "outputs": [],
   "source": [
    "if not os.path.exists(LABELIMG_PATH):\n",
    "    !mkdir {LABELIMG_PATH}\n",
    "    !git clone https://github.com/tzutalin/labelImg {LABELIMG_PATH}"
   ]
  },
  {
   "cell_type": "code",
   "execution_count": 11,
   "metadata": {},
   "outputs": [],
   "source": [
    "if os.name == 'posix':\n",
    "    !make qt5py3\n",
    "if os.name =='nt':\n",
    "    !cd {LABELIMG_PATH} && pyrcc5 -o libs/resources.py resources.qrc"
   ]
  },
  {
   "cell_type": "code",
   "execution_count": 12,
   "metadata": {},
   "outputs": [
    {
     "name": "stdout",
     "output_type": "stream",
     "text": [
      "Image:D:\\Programas\\OSIA\\TFODCourse\\Tensorflow\\workspace\\images\\collectedimages\\down\\down.ac5215ba-44b5-11ed-ab9d-d0509963e70e.jpg -> Annotation:D:/Programas/OSIA/TFODCourse/Tensorflow/workspace/images/collectedimages\\down.ac5215ba-44b5-11ed-ab9d-d0509963e70e.xml\n",
      "Image:D:\\Programas\\OSIA\\TFODCourse\\Tensorflow\\workspace\\images\\collectedimages\\down\\down.ad876652-44b5-11ed-bef0-d0509963e70e.jpg -> Annotation:D:/Programas/OSIA/TFODCourse/Tensorflow/workspace/images/collectedimages\\down.ad876652-44b5-11ed-bef0-d0509963e70e.xml\n",
      "Image:D:\\Programas\\OSIA\\TFODCourse\\Tensorflow\\workspace\\images\\collectedimages\\down\\down.aebea4f2-44b5-11ed-b5f4-d0509963e70e.jpg -> Annotation:D:/Programas/OSIA/TFODCourse/Tensorflow/workspace/images/collectedimages\\down.aebea4f2-44b5-11ed-b5f4-d0509963e70e.xml\n",
      "Image:D:\\Programas\\OSIA\\TFODCourse\\Tensorflow\\workspace\\images\\collectedimages\\down\\down.aff4fd88-44b5-11ed-9621-d0509963e70e.jpg -> Annotation:D:/Programas/OSIA/TFODCourse/Tensorflow/workspace/images/collectedimages\\down.aff4fd88-44b5-11ed-9621-d0509963e70e.xml\n",
      "Image:D:\\Programas\\OSIA\\TFODCourse\\Tensorflow\\workspace\\images\\collectedimages\\down\\down.b12cc82d-44b5-11ed-9001-d0509963e70e.jpg -> Annotation:D:/Programas/OSIA/TFODCourse/Tensorflow/workspace/images/collectedimages\\down.b12cc82d-44b5-11ed-9001-d0509963e70e.xml\n",
      "Image:D:\\Programas\\OSIA\\TFODCourse\\Tensorflow\\workspace\\images\\collectedimages\\down\\down.d96c0fcb-44b5-11ed-afce-d0509963e70e.jpg -> Annotation:D:/Programas/OSIA/TFODCourse/Tensorflow/workspace/images/collectedimages\\down.d96c0fcb-44b5-11ed-afce-d0509963e70e.xml\n",
      "Image:D:\\Programas\\OSIA\\TFODCourse\\Tensorflow\\workspace\\images\\collectedimages\\down\\down.d836c0c7-44b5-11ed-b542-d0509963e70e.jpg -> Annotation:D:/Programas/OSIA/TFODCourse/Tensorflow/workspace/images/collectedimages\\down.d836c0c7-44b5-11ed-b542-d0509963e70e.xml\n",
      "Image:D:\\Programas\\OSIA\\TFODCourse\\Tensorflow\\workspace\\images\\collectedimages\\down\\down.daa193e7-44b5-11ed-8b0d-d0509963e70e.jpg -> Annotation:D:/Programas/OSIA/TFODCourse/Tensorflow/workspace/images/collectedimages\\down.daa193e7-44b5-11ed-8b0d-d0509963e70e.xml\n",
      "Image:D:\\Programas\\OSIA\\TFODCourse\\Tensorflow\\workspace\\images\\collectedimages\\down\\down.dbd75cdb-44b5-11ed-aed0-d0509963e70e.jpg -> Annotation:D:/Programas/OSIA/TFODCourse/Tensorflow/workspace/images/collectedimages\\down.dbd75cdb-44b5-11ed-aed0-d0509963e70e.xml\n",
      "Image:D:\\Programas\\OSIA\\TFODCourse\\Tensorflow\\workspace\\images\\collectedimages\\down\\down.dd0cf38d-44b5-11ed-a283-d0509963e70e.jpg -> Annotation:D:/Programas/OSIA/TFODCourse/Tensorflow/workspace/images/collectedimages\\down.dd0cf38d-44b5-11ed-a283-d0509963e70e.xml\n",
      "Image:D:\\Programas\\OSIA\\TFODCourse\\Tensorflow\\workspace\\images\\collectedimages\\hello\\hello.b9bb19eb-44b5-11ed-bd77-d0509963e70e.jpg -> Annotation:D:/Programas/OSIA/TFODCourse/Tensorflow/workspace/images/collectedimages\\hello.b9bb19eb-44b5-11ed-bd77-d0509963e70e.xml\n",
      "Image:D:\\Programas\\OSIA\\TFODCourse\\Tensorflow\\workspace\\images\\collectedimages\\hello\\hello.b61aa680-44b5-11ed-bc9f-d0509963e70e.jpg -> Annotation:D:/Programas/OSIA/TFODCourse/Tensorflow/workspace/images/collectedimages\\hello.b61aa680-44b5-11ed-bc9f-d0509963e70e.xml\n",
      "Image:D:\\Programas\\OSIA\\TFODCourse\\Tensorflow\\workspace\\images\\collectedimages\\hello\\hello.b74f58e6-44b5-11ed-8618-d0509963e70e.jpg -> Annotation:D:/Programas/OSIA/TFODCourse/Tensorflow/workspace/images/collectedimages\\hello.b74f58e6-44b5-11ed-8618-d0509963e70e.xml\n",
      "Image:D:\\Programas\\OSIA\\TFODCourse\\Tensorflow\\workspace\\images\\collectedimages\\hello\\hello.b883134d-44b5-11ed-8b92-d0509963e70e.jpg -> Annotation:D:/Programas/OSIA/TFODCourse/Tensorflow/workspace/images/collectedimages\\hello.b883134d-44b5-11ed-8b92-d0509963e70e.xml\n",
      "Image:D:\\Programas\\OSIA\\TFODCourse\\Tensorflow\\workspace\\images\\collectedimages\\hello\\hello.baf30b59-44b5-11ed-b71d-d0509963e70e.jpg -> Annotation:D:/Programas/OSIA/TFODCourse/Tensorflow/workspace/images/collectedimages\\hello.baf30b59-44b5-11ed-b71d-d0509963e70e.xml\n",
      "Image:D:\\Programas\\OSIA\\TFODCourse\\Tensorflow\\workspace\\images\\collectedimages\\hello\\hello.e1ffd3bd-44b5-11ed-84aa-d0509963e70e.jpg -> Annotation:D:/Programas/OSIA/TFODCourse/Tensorflow/workspace/images/collectedimages\\hello.e1ffd3bd-44b5-11ed-84aa-d0509963e70e.xml\n",
      "Image:D:\\Programas\\OSIA\\TFODCourse\\Tensorflow\\workspace\\images\\collectedimages\\hello\\hello.e5a04afd-44b5-11ed-bc13-d0509963e70e.jpg -> Annotation:D:/Programas/OSIA/TFODCourse/Tensorflow/workspace/images/collectedimages\\hello.e5a04afd-44b5-11ed-bc13-d0509963e70e.xml\n",
      "Image:D:\\Programas\\OSIA\\TFODCourse\\Tensorflow\\workspace\\images\\collectedimages\\hello\\hello.e5a04afd-44b5-11ed-bc13-d0509963e70e.jpg -> Annotation:D:/Programas/OSIA/TFODCourse/Tensorflow/workspace/images/collectedimages\\hello.e5a04afd-44b5-11ed-bc13-d0509963e70e.xml\n",
      "Image:D:\\Programas\\OSIA\\TFODCourse\\Tensorflow\\workspace\\images\\collectedimages\\hello\\hello.e6d647da-44b5-11ed-a390-d0509963e70e.jpg -> Annotation:D:/Programas/OSIA/TFODCourse/Tensorflow/workspace/images/collectedimages\\hello.e6d647da-44b5-11ed-a390-d0509963e70e.xml\n",
      "Image:D:\\Programas\\OSIA\\TFODCourse\\Tensorflow\\workspace\\images\\collectedimages\\hello\\hello.e46bf746-44b5-11ed-a76a-d0509963e70e.jpg -> Annotation:D:/Programas/OSIA/TFODCourse/Tensorflow/workspace/images/collectedimages\\hello.e46bf746-44b5-11ed-a76a-d0509963e70e.xml\n",
      "Image:D:\\Programas\\OSIA\\TFODCourse\\Tensorflow\\workspace\\images\\collectedimages\\hello\\hello.e334b89d-44b5-11ed-91f0-d0509963e70e.jpg -> Annotation:D:/Programas/OSIA/TFODCourse/Tensorflow/workspace/images/collectedimages\\hello.e334b89d-44b5-11ed-91f0-d0509963e70e.xml\n",
      "Image:D:\\Programas\\OSIA\\TFODCourse\\Tensorflow\\workspace\\images\\collectedimages\\up\\up.a3c75822-44b5-11ed-9b90-d0509963e70e.jpg -> Annotation:D:/Programas/OSIA/TFODCourse/Tensorflow/workspace/images/collectedimages\\up.a3c75822-44b5-11ed-9b90-d0509963e70e.xml\n",
      "Image:D:\\Programas\\OSIA\\TFODCourse\\Tensorflow\\workspace\\images\\collectedimages\\up\\up.a4fbd9bf-44b5-11ed-a380-d0509963e70e.jpg -> Annotation:D:/Programas/OSIA/TFODCourse/Tensorflow/workspace/images/collectedimages\\up.a4fbd9bf-44b5-11ed-a380-d0509963e70e.xml\n",
      "Image:D:\\Programas\\OSIA\\TFODCourse\\Tensorflow\\workspace\\images\\collectedimages\\up\\up.a28fbefd-44b5-11ed-9337-d0509963e70e.jpg -> Annotation:D:/Programas/OSIA/TFODCourse/Tensorflow/workspace/images/collectedimages\\up.a28fbefd-44b5-11ed-9337-d0509963e70e.xml\n",
      "Image:D:\\Programas\\OSIA\\TFODCourse\\Tensorflow\\workspace\\images\\collectedimages\\up\\up.a630b8a7-44b5-11ed-9fbb-d0509963e70e.jpg -> Annotation:D:/Programas/OSIA/TFODCourse/Tensorflow/workspace/images/collectedimages\\up.a630b8a7-44b5-11ed-9fbb-d0509963e70e.xml\n",
      "Image:D:\\Programas\\OSIA\\TFODCourse\\Tensorflow\\workspace\\images\\collectedimages\\up\\up.a765e7c5-44b5-11ed-80b8-d0509963e70e.jpg -> Annotation:D:/Programas/OSIA/TFODCourse/Tensorflow/workspace/images/collectedimages\\up.a765e7c5-44b5-11ed-80b8-d0509963e70e.xml\n",
      "Image:D:\\Programas\\OSIA\\TFODCourse\\Tensorflow\\workspace\\images\\collectedimages\\up\\up.a765e7c5-44b5-11ed-80b8-d0509963e70e.jpg -> Annotation:D:/Programas/OSIA/TFODCourse/Tensorflow/workspace/images/collectedimages\\up.a765e7c5-44b5-11ed-80b8-d0509963e70e.xml\n",
      "Image:D:\\Programas\\OSIA\\TFODCourse\\Tensorflow\\workspace\\images\\collectedimages\\up\\up.ce71d0d6-44b5-11ed-804a-d0509963e70e.jpg -> Annotation:D:/Programas/OSIA/TFODCourse/Tensorflow/workspace/images/collectedimages\\up.ce71d0d6-44b5-11ed-804a-d0509963e70e.xml\n",
      "Image:D:\\Programas\\OSIA\\TFODCourse\\Tensorflow\\workspace\\images\\collectedimages\\up\\up.cfa71df1-44b5-11ed-a82c-d0509963e70e.jpg -> Annotation:D:/Programas/OSIA/TFODCourse/Tensorflow/workspace/images/collectedimages\\up.cfa71df1-44b5-11ed-a82c-d0509963e70e.xml\n",
      "Image:D:\\Programas\\OSIA\\TFODCourse\\Tensorflow\\workspace\\images\\collectedimages\\up\\up.d0dee145-44b5-11ed-81b0-d0509963e70e.jpg -> Annotation:D:/Programas/OSIA/TFODCourse/Tensorflow/workspace/images/collectedimages\\up.d0dee145-44b5-11ed-81b0-d0509963e70e.xml\n",
      "Image:D:\\Programas\\OSIA\\TFODCourse\\Tensorflow\\workspace\\images\\collectedimages\\up\\up.d34b4fe7-44b5-11ed-9497-d0509963e70e.jpg -> Annotation:D:/Programas/OSIA/TFODCourse/Tensorflow/workspace/images/collectedimages\\up.d34b4fe7-44b5-11ed-9497-d0509963e70e.xml\n",
      "Image:D:\\Programas\\OSIA\\TFODCourse\\Tensorflow\\workspace\\images\\collectedimages\\up\\up.d214ec21-44b5-11ed-883d-d0509963e70e.jpg -> Annotation:D:/Programas/OSIA/TFODCourse/Tensorflow/workspace/images/collectedimages\\up.d214ec21-44b5-11ed-883d-d0509963e70e.xml\n",
      "Image:D:\\Programas\\OSIA\\TFODCourse\\Tensorflow\\workspace\\images\\collectedimages\\villa\\villa.ebc2c790-44b5-11ed-8ca8-d0509963e70e.jpg -> Annotation:D:/Programas/OSIA/TFODCourse/Tensorflow/workspace/images/collectedimages\\villa.ebc2c790-44b5-11ed-8ca8-d0509963e70e.xml\n",
      "Image:D:\\Programas\\OSIA\\TFODCourse\\Tensorflow\\workspace\\images\\collectedimages\\villa\\villa.ecf6d8ae-44b5-11ed-8756-d0509963e70e.jpg -> Annotation:D:/Programas/OSIA/TFODCourse/Tensorflow/workspace/images/collectedimages\\villa.ecf6d8ae-44b5-11ed-8756-d0509963e70e.xml\n",
      "Image:D:\\Programas\\OSIA\\TFODCourse\\Tensorflow\\workspace\\images\\collectedimages\\villa\\villa.ee2d2a33-44b5-11ed-a998-d0509963e70e.jpg -> Annotation:D:/Programas/OSIA/TFODCourse/Tensorflow/workspace/images/collectedimages\\villa.ee2d2a33-44b5-11ed-a998-d0509963e70e.xml\n",
      "Image:D:\\Programas\\OSIA\\TFODCourse\\Tensorflow\\workspace\\images\\collectedimages\\villa\\villa.ef616218-44b5-11ed-ab98-d0509963e70e.jpg -> Annotation:D:/Programas/OSIA/TFODCourse/Tensorflow/workspace/images/collectedimages\\villa.ef616218-44b5-11ed-ab98-d0509963e70e.xml\n",
      "Image:D:\\Programas\\OSIA\\TFODCourse\\Tensorflow\\workspace\\images\\collectedimages\\villa\\villa.f0982649-44b5-11ed-872f-d0509963e70e.jpg -> Annotation:D:/Programas/OSIA/TFODCourse/Tensorflow/workspace/images/collectedimages\\villa.f0982649-44b5-11ed-872f-d0509963e70e.xml\n"
     ]
    }
   ],
   "source": [
    "!cd {LABELIMG_PATH} && python labelImg.py"
   ]
  },
  {
   "cell_type": "markdown",
   "metadata": {},
   "source": [
    "# 6. Move them into a Training and Testing Partition"
   ]
  },
  {
   "cell_type": "markdown",
   "metadata": {},
   "source": [
    "# OPTIONAL - 7. Compress them for Colab Training"
   ]
  },
  {
   "cell_type": "code",
   "execution_count": null,
   "metadata": {},
   "outputs": [],
   "source": [
    "TRAIN_PATH = os.path.join('Tensorflow', 'workspace', 'images', 'train')\n",
    "TEST_PATH = os.path.join('Tensorflow', 'workspace', 'images', 'test')\n",
    "ARCHIVE_PATH = os.path.join('Tensorflow', 'workspace', 'images', 'archive.tar.gz')"
   ]
  },
  {
   "cell_type": "code",
   "execution_count": null,
   "metadata": {},
   "outputs": [],
   "source": [
    "!tar -czf {ARCHIVE_PATH} {TRAIN_PATH} {TEST_PATH}"
   ]
  },
  {
   "cell_type": "code",
   "execution_count": null,
   "metadata": {},
   "outputs": [],
   "source": []
  }
 ],
 "metadata": {
  "kernelspec": {
   "display_name": "tfodj",
   "language": "python",
   "name": "tfodj"
  },
  "language_info": {
   "codemirror_mode": {
    "name": "ipython",
    "version": 3
   },
   "file_extension": ".py",
   "mimetype": "text/x-python",
   "name": "python",
   "nbconvert_exporter": "python",
   "pygments_lexer": "ipython3",
   "version": "3.10.6"
  }
 },
 "nbformat": 4,
 "nbformat_minor": 2
}
