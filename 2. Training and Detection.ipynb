{
 "cells": [
  {
   "cell_type": "code",
   "execution_count": null,
   "metadata": {},
   "outputs": [],
   "source": [
    "!pip install pyyaml"
   ]
  },
  {
   "cell_type": "code",
   "execution_count": null,
   "metadata": {},
   "outputs": [],
   "source": [
    "!pip install apache-beam\n",
    "!pip install avro-python3\n",
    "!pip install contextlib2\n",
    "!pip install Cython\n",
    "!pip install pycocotools"
   ]
  },
  {
   "cell_type": "code",
   "execution_count": null,
   "metadata": {},
   "outputs": [],
   "source": [
    "!pip install matplotlib"
   ]
  },
  {
   "cell_type": "code",
   "execution_count": null,
   "metadata": {},
   "outputs": [],
   "source": [
    "!pip install object_detection"
   ]
  },
  {
   "cell_type": "markdown",
   "metadata": {
    "id": "QUANWN3rpfC9"
   },
   "source": [
    "# 0. Setup Paths"
   ]
  },
  {
   "cell_type": "code",
   "execution_count": null,
   "metadata": {
    "id": "146BB11JpfDA"
   },
   "outputs": [],
   "source": [
    "import os"
   ]
  },
  {
   "cell_type": "code",
   "execution_count": 3,
   "metadata": {
    "id": "42hJEdo_pfDB"
   },
   "outputs": [],
   "source": [
    "CUSTOM_MODEL_NAME = 'my_ssd_mobnet' \n",
    "PRETRAINED_MODEL_NAME = 'ssd_mobilenet_v2_fpnlite_320x320_coco17_tpu-8'\n",
    "PRETRAINED_MODEL_URL = 'http://download.tensorflow.org/models/object_detection/tf2/20200711/ssd_mobilenet_v2_fpnlite_320x320_coco17_tpu-8.tar.gz'\n",
    "TF_RECORD_SCRIPT_NAME = 'generate_tfrecord.py'\n",
    "LABEL_MAP_NAME = 'label_map.pbtxt'"
   ]
  },
  {
   "cell_type": "code",
   "execution_count": 4,
   "metadata": {
    "id": "hbPhYVy_pfDB"
   },
   "outputs": [],
   "source": [
    "paths = {\n",
    "    'WORKSPACE_PATH': os.path.join('Tensorflow', 'workspace'),\n",
    "    'SCRIPTS_PATH': os.path.join('Tensorflow','scripts'),\n",
    "    'APIMODEL_PATH': os.path.join('Tensorflow','models'),\n",
    "    'ANNOTATION_PATH': os.path.join('Tensorflow', 'workspace','annotations'),\n",
    "    'IMAGE_PATH': os.path.join('Tensorflow', 'workspace','images'),\n",
    "    'MODEL_PATH': os.path.join('Tensorflow', 'workspace','models'),\n",
    "    'PRETRAINED_MODEL_PATH': os.path.join('Tensorflow', 'workspace','pre-trained-models'),\n",
    "    'CHECKPOINT_PATH': os.path.join('Tensorflow', 'workspace','models',CUSTOM_MODEL_NAME), \n",
    "    'OUTPUT_PATH': os.path.join('Tensorflow', 'workspace','models',CUSTOM_MODEL_NAME, 'export'), \n",
    "    'TFJS_PATH':os.path.join('Tensorflow', 'workspace','models',CUSTOM_MODEL_NAME, 'tfjsexport'), \n",
    "    'TFLITE_PATH':os.path.join('Tensorflow', 'workspace','models',CUSTOM_MODEL_NAME, 'tfliteexport'), \n",
    "    'PROTOC_PATH':os.path.join('Tensorflow','protoc')\n",
    " }"
   ]
  },
  {
   "cell_type": "code",
   "execution_count": 5,
   "metadata": {
    "id": "LwhWZMI0pfDC"
   },
   "outputs": [],
   "source": [
    "files = {\n",
    "    'PIPELINE_CONFIG':os.path.join('Tensorflow', 'workspace','models', CUSTOM_MODEL_NAME, 'pipeline.config'),\n",
    "    'TF_RECORD_SCRIPT': os.path.join(paths['SCRIPTS_PATH'], TF_RECORD_SCRIPT_NAME), \n",
    "    'LABELMAP': os.path.join(paths['ANNOTATION_PATH'], LABEL_MAP_NAME)\n",
    "}"
   ]
  },
  {
   "cell_type": "code",
   "execution_count": null,
   "metadata": {
    "id": "HR-TfDGrpfDC"
   },
   "outputs": [],
   "source": [
    "for path in paths.values():\n",
    "    if not os.path.exists(path):\n",
    "        if os.name == 'posix':\n",
    "            !mkdir -p {path}\n",
    "        if os.name == 'nt':\n",
    "            !mkdir {path}"
   ]
  },
  {
   "cell_type": "markdown",
   "metadata": {
    "id": "OLU-rs_ipfDE"
   },
   "source": [
    "# 1. Download TF Models Pretrained Models from Tensorflow Model Zoo and Install TFOD"
   ]
  },
  {
   "cell_type": "code",
   "execution_count": null,
   "metadata": {},
   "outputs": [],
   "source": [
    "# https://www.tensorflow.org/install/source_windows"
   ]
  },
  {
   "cell_type": "code",
   "execution_count": null,
   "metadata": {
    "id": "K-Cmz2edpfDE",
    "scrolled": true
   },
   "outputs": [],
   "source": [
    "if os.name=='nt':\n",
    "    !pip install wget\n",
    "    import wget"
   ]
  },
  {
   "cell_type": "code",
   "execution_count": null,
   "metadata": {
    "id": "iA1DIq5OpfDE"
   },
   "outputs": [],
   "source": [
    "if not os.path.exists(os.path.join(paths['APIMODEL_PATH'], 'research', 'object_detection')):\n",
    "    !git clone https://github.com/tensorflow/models {paths['APIMODEL_PATH']}"
   ]
  },
  {
   "cell_type": "code",
   "execution_count": null,
   "metadata": {
    "id": "rJjMHbnDs3Tv"
   },
   "outputs": [],
   "source": [
    "# Install Tensorflow Object Detection \n",
    "if os.name=='posix':  \n",
    "    !apt-get install protobuf-compiler\n",
    "    !cd Tensorflow/models/research && protoc object_detection/protos/*.proto --python_out=. && cp object_detection/packages/tf2/setup.py . && python -m pip install . \n",
    "    \n",
    "if os.name=='nt':\n",
    "    url=\"https://github.com/protocolbuffers/protobuf/releases/download/v21.7/protoc-21.7-win64.zip\"\n",
    "    wget.download(url)\n",
    "    !move protoc-21.7-win64.zip {paths['PROTOC_PATH']}\n",
    "    !cd {paths['PROTOC_PATH']} && tar -xf protoc-21.7-win64.zip\n",
    "    os.environ['PATH'] += os.pathsep + os.path.abspath(os.path.join(paths['PROTOC_PATH'], 'bin'))   \n",
    "    !cd Tensorflow/models/research && protoc object_detection/protos/*.proto --python_out=. && copy object_detection\\\\packages\\\\tf2\\\\setup.py setup.py && python setup.py build && python setup.py install\n",
    "    !cd Tensorflow/models/research/slim && pip install -e . "
   ]
  },
  {
   "cell_type": "code",
   "execution_count": null,
   "metadata": {},
   "outputs": [],
   "source": [
    "!pip install tensorflow --upgrade"
   ]
  },
  {
   "cell_type": "code",
   "execution_count": null,
   "metadata": {},
   "outputs": [],
   "source": [
    "!pip install protobuf"
   ]
  },
  {
   "cell_type": "code",
   "execution_count": null,
   "metadata": {
    "scrolled": true
   },
   "outputs": [],
   "source": [
    "VERIFICATION_SCRIPT = os.path.join(paths['APIMODEL_PATH'], 'research', 'object_detection', 'builders', 'model_builder_tf2_test.py')\n",
    "# Verify Installation\n",
    "!python {VERIFICATION_SCRIPT}"
   ]
  },
  {
   "cell_type": "code",
   "execution_count": null,
   "metadata": {},
   "outputs": [],
   "source": [
    "!pip install protobuf matplotlib"
   ]
  },
  {
   "cell_type": "code",
   "execution_count": null,
   "metadata": {},
   "outputs": [],
   "source": [
    "import object_detection"
   ]
  },
  {
   "cell_type": "code",
   "execution_count": null,
   "metadata": {
    "scrolled": true
   },
   "outputs": [],
   "source": [
    "!pip list"
   ]
  },
  {
   "cell_type": "code",
   "execution_count": null,
   "metadata": {
    "colab": {
     "base_uri": "https://localhost:8080/"
    },
    "id": "csofht2npfDE",
    "outputId": "ff5471b2-bed2-43f2-959c-327a706527b6"
   },
   "outputs": [],
   "source": [
    "if os.name =='posix':\n",
    "    !wget {PRETRAINED_MODEL_URL}\n",
    "    !mv {PRETRAINED_MODEL_NAME+'.tar.gz'} {paths['PRETRAINED_MODEL_PATH']}\n",
    "    !cd {paths['PRETRAINED_MODEL_PATH']} && tar -zxvf {PRETRAINED_MODEL_NAME+'.tar.gz'}\n",
    "if os.name == 'nt':\n",
    "    wget.download(PRETRAINED_MODEL_URL)\n",
    "    !move {PRETRAINED_MODEL_NAME+'.tar.gz'} {paths['PRETRAINED_MODEL_PATH']}\n",
    "    !cd {paths['PRETRAINED_MODEL_PATH']} && tar -zxvf {PRETRAINED_MODEL_NAME+'.tar.gz'}"
   ]
  },
  {
   "cell_type": "markdown",
   "metadata": {
    "id": "M5KJTnkfpfDC"
   },
   "source": [
    "# 2. Create Label Map"
   ]
  },
  {
   "cell_type": "code",
   "execution_count": null,
   "metadata": {
    "id": "p1BVDWo7pfDC"
   },
   "outputs": [],
   "source": [
    "labels = [{'name':'up', 'id':1}, {'name':'down', 'id':2}, {'name':'hello', 'id':3}, {'name':'villa', 'id':4}]\n",
    "\n",
    "with open(files['LABELMAP'], 'w') as f:\n",
    "    for label in labels:\n",
    "        f.write('item { \\n')\n",
    "        f.write('\\tname:\\'{}\\'\\n'.format(label['name']))\n",
    "        f.write('\\tid:{}\\n'.format(label['id']))\n",
    "        f.write('}\\n')"
   ]
  },
  {
   "cell_type": "markdown",
   "metadata": {
    "id": "C88zyVELpfDC"
   },
   "source": [
    "# 3. Create TF records"
   ]
  },
  {
   "cell_type": "code",
   "execution_count": null,
   "metadata": {
    "colab": {
     "base_uri": "https://localhost:8080/"
    },
    "id": "kvf5WccwrFGq",
    "outputId": "49902aeb-0bd7-4298-e1a0-5b4a64eb2064"
   },
   "outputs": [],
   "source": [
    "# OPTIONAL IF RUNNING ON COLAB\n",
    "ARCHIVE_FILES = os.path.join(paths['IMAGE_PATH'], 'archive.tar.gz')\n",
    "if os.path.exists(ARCHIVE_FILES):\n",
    "  !tar -zxvf {ARCHIVE_FILES}"
   ]
  },
  {
   "cell_type": "code",
   "execution_count": null,
   "metadata": {
    "colab": {
     "base_uri": "https://localhost:8080/"
    },
    "id": "KWpb_BVUpfDD",
    "outputId": "56ce2a3f-3933-4ee6-8a9d-d5ec65f7d73c"
   },
   "outputs": [],
   "source": [
    "if not os.path.exists(files['TF_RECORD_SCRIPT']):\n",
    "    !git clone https://github.com/nicknochnack/GenerateTFRecord {paths['SCRIPTS_PATH']}"
   ]
  },
  {
   "cell_type": "code",
   "execution_count": null,
   "metadata": {
    "colab": {
     "base_uri": "https://localhost:8080/"
    },
    "id": "UPFToGZqpfDD",
    "outputId": "0ebb456f-aadc-4a1f-96e6-fbfec1923e1c"
   },
   "outputs": [],
   "source": [
    "!python {files['TF_RECORD_SCRIPT']} -x {os.path.join(paths['IMAGE_PATH'], 'train')} -l {files['LABELMAP']} -o {os.path.join(paths['ANNOTATION_PATH'], 'train.record')} \n",
    "!python {files['TF_RECORD_SCRIPT']} -x {os.path.join(paths['IMAGE_PATH'], 'test')} -l {files['LABELMAP']} -o {os.path.join(paths['ANNOTATION_PATH'], 'test.record')} "
   ]
  },
  {
   "cell_type": "markdown",
   "metadata": {
    "id": "qT4QU7pLpfDE"
   },
   "source": [
    "# 4. Copy Model Config to Training Folder"
   ]
  },
  {
   "cell_type": "code",
   "execution_count": null,
   "metadata": {
    "id": "cOjuTFbwpfDF"
   },
   "outputs": [],
   "source": [
    "if os.name =='posix':\n",
    "    !cp {os.path.join(paths['PRETRAINED_MODEL_PATH'], PRETRAINED_MODEL_NAME, 'pipeline.config')} {os.path.join(paths['CHECKPOINT_PATH'])}\n",
    "if os.name == 'nt':\n",
    "    !copy {os.path.join(paths['PRETRAINED_MODEL_PATH'], PRETRAINED_MODEL_NAME, 'pipeline.config')} {os.path.join(paths['CHECKPOINT_PATH'])}"
   ]
  },
  {
   "cell_type": "markdown",
   "metadata": {
    "id": "Ga8gpNslpfDF"
   },
   "source": [
    "# 5. Update Config For Transfer Learning"
   ]
  },
  {
   "cell_type": "code",
   "execution_count": null,
   "metadata": {
    "id": "Z9hRrO_ppfDF",
    "scrolled": false
   },
   "outputs": [],
   "source": [
    "import tensorflow as tf\n",
    "from object_detection.utils import config_util\n",
    "from object_detection.protos import pipeline_pb2"
   ]
  },
  {
   "cell_type": "code",
   "execution_count": null,
   "metadata": {},
   "outputs": [],
   "source": [
    "from google.protobuf import text_format"
   ]
  },
  {
   "cell_type": "code",
   "execution_count": null,
   "metadata": {},
   "outputs": [],
   "source": [
    "!pip install protobuf"
   ]
  },
  {
   "cell_type": "code",
   "execution_count": null,
   "metadata": {
    "id": "c2A0mn4ipfDF"
   },
   "outputs": [],
   "source": [
    "config = config_util.get_configs_from_pipeline_file(files['PIPELINE_CONFIG'])"
   ]
  },
  {
   "cell_type": "code",
   "execution_count": null,
   "metadata": {
    "colab": {
     "base_uri": "https://localhost:8080/"
    },
    "id": "uQA13-afpfDF",
    "outputId": "907496a4-a39d-4b13-8c2c-e5978ecb1f10"
   },
   "outputs": [],
   "source": [
    "config"
   ]
  },
  {
   "cell_type": "code",
   "execution_count": null,
   "metadata": {
    "id": "9vK5lotDpfDF"
   },
   "outputs": [],
   "source": [
    "pipeline_config = pipeline_pb2.TrainEvalPipelineConfig()\n",
    "with tf.io.gfile.GFile(files['PIPELINE_CONFIG'], \"r\") as f:                                                                                                                                                                                                                     \n",
    "    proto_str = f.read()                                                                                                                                                                                                                                          \n",
    "    text_format.Merge(proto_str, pipeline_config)  "
   ]
  },
  {
   "cell_type": "code",
   "execution_count": null,
   "metadata": {
    "id": "rP43Ph0JpfDG"
   },
   "outputs": [],
   "source": [
    "pipeline_config.model.ssd.num_classes = len(labels)\n",
    "pipeline_config.train_config.batch_size = 4\n",
    "pipeline_config.train_config.fine_tune_checkpoint = os.path.join(paths['PRETRAINED_MODEL_PATH'], PRETRAINED_MODEL_NAME, 'checkpoint', 'ckpt-0')\n",
    "pipeline_config.train_config.fine_tune_checkpoint_type = \"detection\"\n",
    "pipeline_config.train_input_reader.label_map_path= files['LABELMAP']\n",
    "pipeline_config.train_input_reader.tf_record_input_reader.input_path[:] = [os.path.join(paths['ANNOTATION_PATH'], 'train.record')]\n",
    "pipeline_config.eval_input_reader[0].label_map_path = files['LABELMAP']\n",
    "pipeline_config.eval_input_reader[0].tf_record_input_reader.input_path[:] = [os.path.join(paths['ANNOTATION_PATH'], 'test.record')]"
   ]
  },
  {
   "cell_type": "code",
   "execution_count": null,
   "metadata": {
    "id": "oJvfgwWqpfDG"
   },
   "outputs": [],
   "source": [
    "config_text = text_format.MessageToString(pipeline_config)                                                                                                                                                                                                        \n",
    "with tf.io.gfile.GFile(files['PIPELINE_CONFIG'], \"wb\") as f:                                                                                                                                                                                                                     \n",
    "    f.write(config_text)   "
   ]
  },
  {
   "cell_type": "markdown",
   "metadata": {
    "id": "Zr3ON7xMpfDG"
   },
   "source": [
    "# 6. Train the model"
   ]
  },
  {
   "cell_type": "code",
   "execution_count": 46,
   "metadata": {
    "id": "B-Y2UQmQpfDG"
   },
   "outputs": [],
   "source": [
    "TRAINING_SCRIPT = os.path.join(paths['APIMODEL_PATH'], 'research', 'object_detection', 'model_main_tf2.py')"
   ]
  },
  {
   "cell_type": "code",
   "execution_count": null,
   "metadata": {
    "id": "jMP2XDfQpfDH"
   },
   "outputs": [],
   "source": [
    "command = \"python {} --model_dir={} --pipeline_config_path={} --num_train_steps=2000\".format(TRAINING_SCRIPT, paths['CHECKPOINT_PATH'],files['PIPELINE_CONFIG'])"
   ]
  },
  {
   "cell_type": "code",
   "execution_count": null,
   "metadata": {
    "colab": {
     "base_uri": "https://localhost:8080/"
    },
    "id": "A4OXXi-ApfDH",
    "outputId": "117a0e83-012b-466e-b7a6-ccaa349ac5ab"
   },
   "outputs": [],
   "source": [
    "print(command)"
   ]
  },
  {
   "cell_type": "code",
   "execution_count": null,
   "metadata": {
    "colab": {
     "base_uri": "https://localhost:8080/"
    },
    "id": "i3ZsJR-qpfDH",
    "outputId": "cabec5e1-45e6-4f2f-d9cf-297d9c1d0225"
   },
   "outputs": [],
   "source": [
    "!{command}"
   ]
  },
  {
   "cell_type": "markdown",
   "metadata": {
    "id": "4_YRZu7npfDH"
   },
   "source": [
    "# 7. Evaluate the Model"
   ]
  },
  {
   "cell_type": "code",
   "execution_count": 47,
   "metadata": {
    "id": "80L7-fdPpfDH"
   },
   "outputs": [],
   "source": [
    "command = \"python {} --model_dir={} --pipeline_config_path={} --checkpoint_dir={}\".format(TRAINING_SCRIPT, paths['CHECKPOINT_PATH'],files['PIPELINE_CONFIG'], paths['CHECKPOINT_PATH'])"
   ]
  },
  {
   "cell_type": "code",
   "execution_count": 48,
   "metadata": {
    "colab": {
     "base_uri": "https://localhost:8080/"
    },
    "id": "lYsgEPx9pfDH",
    "outputId": "8632d48b-91d2-45d9-bcb8-c1b172bf6eed"
   },
   "outputs": [
    {
     "name": "stdout",
     "output_type": "stream",
     "text": [
      "python Tensorflow\\models\\research\\object_detection\\model_main_tf2.py --model_dir=Tensorflow\\workspace\\models\\my_ssd_mobnet --pipeline_config_path=Tensorflow\\workspace\\models\\my_ssd_mobnet\\pipeline.config --checkpoint_dir=Tensorflow\\workspace\\models\\my_ssd_mobnet\n"
     ]
    }
   ],
   "source": [
    "print(command)"
   ]
  },
  {
   "cell_type": "code",
   "execution_count": null,
   "metadata": {
    "id": "lqTV2jGBpfDH"
   },
   "outputs": [],
   "source": [
    "!{command}"
   ]
  },
  {
   "cell_type": "markdown",
   "metadata": {
    "id": "orvRk02UpfDI"
   },
   "source": [
    "# 8. Load Train Model From Checkpoint"
   ]
  },
  {
   "cell_type": "code",
   "execution_count": 1,
   "metadata": {
    "id": "8TYk4_oIpfDI"
   },
   "outputs": [],
   "source": [
    "import os\n",
    "import tensorflow as tf\n",
    "from object_detection.utils import label_map_util\n",
    "from object_detection.utils import visualization_utils as viz_utils\n",
    "from object_detection.builders import model_builder\n",
    "from object_detection.utils import config_util"
   ]
  },
  {
   "cell_type": "code",
   "execution_count": 20,
   "metadata": {
    "id": "tDnQg-cYpfDI"
   },
   "outputs": [],
   "source": [
    "# Load pipeline config and build a detection model\n",
    "configs = config_util.get_configs_from_pipeline_file(files['PIPELINE_CONFIG'])\n",
    "detection_model = model_builder.build(model_config=configs['model'], is_training=False)\n",
    "\n",
    "# Restore checkpoint\n",
    "ckpt = tf.compat.v2.train.Checkpoint(model=detection_model)\n",
    "ckpt.restore(os.path.join(paths['CHECKPOINT_PATH'], 'ckpt-3')).expect_partial()\n",
    "\n",
    "@tf.function\n",
    "def detect_fn(image):\n",
    "    image, shapes = detection_model.preprocess(image)\n",
    "    prediction_dict = detection_model.predict(image, shapes)\n",
    "    detections = detection_model.postprocess(prediction_dict, shapes)\n",
    "    return detections"
   ]
  },
  {
   "cell_type": "markdown",
   "metadata": {
    "id": "0EmsmbBZpfDI"
   },
   "source": [
    "# 9. Detect from an Image"
   ]
  },
  {
   "cell_type": "code",
   "execution_count": 15,
   "metadata": {
    "id": "Y_MKiuZ4pfDI"
   },
   "outputs": [],
   "source": [
    "import cv2 \n",
    "import numpy as np\n",
    "from matplotlib import pyplot as plt\n",
    "%matplotlib inline"
   ]
  },
  {
   "cell_type": "code",
   "execution_count": 22,
   "metadata": {},
   "outputs": [],
   "source": [
    "from object_detection.utils import label_map_util\n",
    "\n",
    "from object_detection.utils import visualization_utils as vis_util"
   ]
  },
  {
   "cell_type": "code",
   "execution_count": 23,
   "metadata": {
    "id": "cBDbIhNapfDI"
   },
   "outputs": [],
   "source": [
    "category_index = label_map_util.create_category_index_from_labelmap(files['LABELMAP'])"
   ]
  },
  {
   "cell_type": "code",
   "execution_count": 24,
   "metadata": {
    "id": "Lx3crOhOzITB"
   },
   "outputs": [],
   "source": [
    "IMAGE_PATH = os.path.join(paths['IMAGE_PATH'], 'test', 'villa.f0982649-44b5-11ed-872f-d0509963e70e.jpg')"
   ]
  },
  {
   "cell_type": "code",
   "execution_count": null,
   "metadata": {
    "colab": {
     "base_uri": "https://localhost:8080/",
     "height": 269
    },
    "id": "Tpzn1SMry1yK",
    "outputId": "c392a2c5-10fe-4fc4-9998-a1d4c7db2bd3"
   },
   "outputs": [],
   "source": [
    "img = cv2.imread(IMAGE_PATH)\n",
    "image_np = np.array(img)\n",
    "\n",
    "input_tensor = tf.convert_to_tensor(np.expand_dims(image_np, 0), dtype=tf.float32)\n",
    "detections = detect_fn(input_tensor)\n",
    "\n",
    "num_detections = int(detections.pop('num_detections'))\n",
    "detections = {key: value[0, :num_detections].numpy()\n",
    "              for key, value in detections.items()}\n",
    "detections['num_detections'] = num_detections\n",
    "\n",
    "# detection_classes should be ints.\n",
    "detections['detection_classes'] = detections['detection_classes'].astype(np.int64)\n",
    "\n",
    "label_id_offset = 1\n",
    "image_np_with_detections = image_np.copy()\n",
    "\n",
    "viz_utils.visualize_boxes_and_labels_on_image_array(\n",
    "            image_np_with_detections,\n",
    "            detections['detection_boxes'],\n",
    "            detections['detection_classes']+label_id_offset,\n",
    "            detections['detection_scores'],\n",
    "            category_index,\n",
    "            use_normalized_coordinates=True,\n",
    "            max_boxes_to_draw=5,\n",
    "            min_score_thresh=.8,\n",
    "            agnostic_mode=False)\n",
    "\n",
    "plt.imshow(cv2.cvtColor(image_np_with_detections, cv2.COLOR_BGR2RGB))\n",
    "plt.show()"
   ]
  },
  {
   "cell_type": "markdown",
   "metadata": {
    "id": "IsNAaYAo0WVL"
   },
   "source": [
    "# 10. Real Time Detections from your Webcam"
   ]
  },
  {
   "cell_type": "code",
   "execution_count": null,
   "metadata": {},
   "outputs": [],
   "source": [
    "!pip uninstall opencv-python-headless -y"
   ]
  },
  {
   "cell_type": "code",
   "execution_count": 8,
   "metadata": {},
   "outputs": [
    {
     "name": "stdout",
     "output_type": "stream",
     "text": [
      "Collecting opencv-python\n",
      "  Using cached opencv_python-4.6.0.66-cp36-abi3-win_amd64.whl (35.6 MB)\n",
      "Requirement already satisfied: numpy>=1.14.5 in d:\\programas\\osia\\tfod\\lib\\site-packages (from opencv-python) (1.22.4)\n",
      "Installing collected packages: opencv-python\n",
      "Successfully installed opencv-python-4.6.0.66\n",
      "Collecting opencv-contrib-python\n",
      "  Using cached opencv_contrib_python-4.6.0.66-cp36-abi3-win_amd64.whl (42.5 MB)\n",
      "Requirement already satisfied: numpy>=1.21.2 in d:\\programas\\osia\\tfod\\lib\\site-packages (from opencv-contrib-python) (1.22.4)\n",
      "Installing collected packages: opencv-contrib-python\n",
      "Successfully installed opencv-contrib-python-4.6.0.66\n"
     ]
    }
   ],
   "source": [
    "!pip install opencv-python\n",
    "!pip install opencv-contrib-python"
   ]
  },
  {
   "cell_type": "code",
   "execution_count": 12,
   "metadata": {},
   "outputs": [],
   "source": [
    "import cv2"
   ]
  },
  {
   "cell_type": "code",
   "execution_count": 43,
   "metadata": {
    "id": "o_grs6OGpfDJ"
   },
   "outputs": [],
   "source": [
    "cap = cv2.VideoCapture(0)\n",
    "width = int(cap.get(cv2.CAP_PROP_FRAME_WIDTH))\n",
    "height = int(cap.get(cv2.CAP_PROP_FRAME_HEIGHT))\n",
    "\n",
    "while cap.isOpened(): \n",
    "    ret, frame = cap.read()\n",
    "    image_np = np.array(frame)\n",
    "    \n",
    "    input_tensor = tf.convert_to_tensor(np.expand_dims(image_np, 0), dtype=tf.float32)\n",
    "    detections = detect_fn(input_tensor)\n",
    "    \n",
    "    num_detections = int(detections.pop('num_detections'))\n",
    "    detections = {key: value[0, :num_detections].numpy()\n",
    "                  for key, value in detections.items()}\n",
    "    detections['num_detections'] = num_detections\n",
    "\n",
    "    # detection_classes should be ints.\n",
    "    detections['detection_classes'] = detections['detection_classes'].astype(np.int64)\n",
    "\n",
    "    label_id_offset = 1\n",
    "    image_np_with_detections = image_np.copy()\n",
    "\n",
    "    viz_utils.visualize_boxes_and_labels_on_image_array(\n",
    "                image_np_with_detections,\n",
    "                detections['detection_boxes'],\n",
    "                detections['detection_classes']+label_id_offset,\n",
    "                detections['detection_scores'],\n",
    "                category_index,\n",
    "                use_normalized_coordinates=True,\n",
    "                max_boxes_to_draw=5,\n",
    "                min_score_thresh=.8,\n",
    "                agnostic_mode=False)\n",
    "\n",
    "    cv2.imshow('object detection',  cv2.resize(image_np_with_detections, (800, 600)))\n",
    "    \n",
    "    if cv2.waitKey(10) & 0xFF == ord('q'):\n",
    "        cap.release()\n",
    "        cv2.destroyAllWindows()\n",
    "        break"
   ]
  },
  {
   "cell_type": "markdown",
   "metadata": {
    "id": "rzlM4jt0pfDJ"
   },
   "source": [
    "# 10. Freezing the Graph"
   ]
  },
  {
   "cell_type": "code",
   "execution_count": 26,
   "metadata": {
    "id": "n4olHB2npfDJ"
   },
   "outputs": [],
   "source": [
    "FREEZE_SCRIPT = os.path.join(paths['APIMODEL_PATH'], 'research', 'object_detection', 'exporter_main_v2.py ')"
   ]
  },
  {
   "cell_type": "code",
   "execution_count": 27,
   "metadata": {
    "id": "0AjO93QDpfDJ"
   },
   "outputs": [],
   "source": [
    "command = \"python {} --input_type=image_tensor --pipeline_config_path={} --trained_checkpoint_dir={} --output_directory={}\".format(FREEZE_SCRIPT ,files['PIPELINE_CONFIG'], paths['CHECKPOINT_PATH'], paths['OUTPUT_PATH'])"
   ]
  },
  {
   "cell_type": "code",
   "execution_count": 28,
   "metadata": {
    "colab": {
     "base_uri": "https://localhost:8080/"
    },
    "id": "F6Lsp3tCpfDJ",
    "outputId": "c3828529-bf06-4df5-d7f3-145890ec3edd"
   },
   "outputs": [
    {
     "name": "stdout",
     "output_type": "stream",
     "text": [
      "python Tensorflow\\models\\research\\object_detection\\exporter_main_v2.py  --input_type=image_tensor --pipeline_config_path=Tensorflow\\workspace\\models\\my_ssd_mobnet\\pipeline.config --trained_checkpoint_dir=Tensorflow\\workspace\\models\\my_ssd_mobnet --output_directory=Tensorflow\\workspace\\models\\my_ssd_mobnet\\export\n"
     ]
    }
   ],
   "source": [
    "print(command)"
   ]
  },
  {
   "cell_type": "code",
   "execution_count": 29,
   "metadata": {
    "colab": {
     "base_uri": "https://localhost:8080/"
    },
    "id": "1Sw1ULgHpfDJ",
    "outputId": "6fd441e1-9fc9-4889-d072-3395c21e40b6"
   },
   "outputs": [
    {
     "name": "stderr",
     "output_type": "stream",
     "text": [
      "2022-10-05 15:09:10.202251: W tensorflow/stream_executor/platform/default/dso_loader.cc:64] Could not load dynamic library 'cudart64_110.dll'; dlerror: cudart64_110.dll not found\n",
      "2022-10-05 15:09:10.202296: I tensorflow/stream_executor/cuda/cudart_stub.cc:29] Ignore above cudart dlerror if you do not have a GPU set up on your machine.\n",
      "2022-10-05 15:09:16.531097: W tensorflow/stream_executor/platform/default/dso_loader.cc:64] Could not load dynamic library 'cudart64_110.dll'; dlerror: cudart64_110.dll not found\n",
      "2022-10-05 15:09:16.531315: W tensorflow/stream_executor/platform/default/dso_loader.cc:64] Could not load dynamic library 'cublas64_11.dll'; dlerror: cublas64_11.dll not found\n",
      "2022-10-05 15:09:16.531513: W tensorflow/stream_executor/platform/default/dso_loader.cc:64] Could not load dynamic library 'cublasLt64_11.dll'; dlerror: cublasLt64_11.dll not found\n",
      "2022-10-05 15:09:16.531705: W tensorflow/stream_executor/platform/default/dso_loader.cc:64] Could not load dynamic library 'cufft64_10.dll'; dlerror: cufft64_10.dll not found\n",
      "2022-10-05 15:09:16.531895: W tensorflow/stream_executor/platform/default/dso_loader.cc:64] Could not load dynamic library 'curand64_10.dll'; dlerror: curand64_10.dll not found\n",
      "2022-10-05 15:09:16.532108: W tensorflow/stream_executor/platform/default/dso_loader.cc:64] Could not load dynamic library 'cusolver64_11.dll'; dlerror: cusolver64_11.dll not found\n",
      "2022-10-05 15:09:16.532298: W tensorflow/stream_executor/platform/default/dso_loader.cc:64] Could not load dynamic library 'cusparse64_11.dll'; dlerror: cusparse64_11.dll not found\n",
      "2022-10-05 15:09:16.532486: W tensorflow/stream_executor/platform/default/dso_loader.cc:64] Could not load dynamic library 'cudnn64_8.dll'; dlerror: cudnn64_8.dll not found\n",
      "2022-10-05 15:09:16.532510: W tensorflow/core/common_runtime/gpu/gpu_device.cc:1850] Cannot dlopen some GPU libraries. Please make sure the missing libraries mentioned above are installed properly if you would like to use GPU. Follow the guide at https://www.tensorflow.org/install/gpu for how to download and setup the required libraries for your platform.\n",
      "Skipping registering GPU devices...\n",
      "2022-10-05 15:09:16.538541: I tensorflow/core/platform/cpu_feature_guard.cc:193] This TensorFlow binary is optimized with oneAPI Deep Neural Network Library (oneDNN) to use the following CPU instructions in performance-critical operations:  AVX AVX2\n",
      "To enable them in other operations, rebuild TensorFlow with the appropriate compiler flags.\n",
      "WARNING:tensorflow:From D:\\Programas\\OSIA\\tfod\\lib\\site-packages\\tensorflow\\python\\autograph\\impl\\api.py:458: calling map_fn_v2 (from tensorflow.python.ops.map_fn) with back_prop=False is deprecated and will be removed in a future version.\n",
      "Instructions for updating:\n",
      "back_prop=False is deprecated. Consider using tf.stop_gradient instead.\n",
      "Instead of:\n",
      "results = tf.map_fn(fn, elems, back_prop=False)\n",
      "Use:\n",
      "results = tf.nest.map_structure(tf.stop_gradient, tf.map_fn(fn, elems))\n",
      "W1005 15:09:16.721006 21368 deprecation.py:623] From D:\\Programas\\OSIA\\tfod\\lib\\site-packages\\tensorflow\\python\\autograph\\impl\\api.py:458: calling map_fn_v2 (from tensorflow.python.ops.map_fn) with back_prop=False is deprecated and will be removed in a future version.\n",
      "Instructions for updating:\n",
      "back_prop=False is deprecated. Consider using tf.stop_gradient instead.\n",
      "Instead of:\n",
      "results = tf.map_fn(fn, elems, back_prop=False)\n",
      "Use:\n",
      "results = tf.nest.map_structure(tf.stop_gradient, tf.map_fn(fn, elems))\n",
      "WARNING:tensorflow:Skipping full serialization of Keras layer <object_detection.meta_architectures.ssd_meta_arch.SSDMetaArch object at 0x0000010E2EBB6620>, because it is not built.\n",
      "W1005 15:09:35.903868 21368 save_impl.py:71] Skipping full serialization of Keras layer <object_detection.meta_architectures.ssd_meta_arch.SSDMetaArch object at 0x0000010E2EBB6620>, because it is not built.\n",
      "WARNING:tensorflow:Skipping full serialization of Keras layer <keras.layers.convolutional.separable_conv2d.SeparableConv2D object at 0x0000010E2EBB74F0>, because it is not built.\n",
      "W1005 15:09:36.128861 21368 save_impl.py:71] Skipping full serialization of Keras layer <keras.layers.convolutional.separable_conv2d.SeparableConv2D object at 0x0000010E2EBB74F0>, because it is not built.\n",
      "WARNING:tensorflow:Skipping full serialization of Keras layer <object_detection.core.freezable_batch_norm.FreezableBatchNorm object at 0x0000010E3686E890>, because it is not built.\n",
      "W1005 15:09:36.129861 21368 save_impl.py:71] Skipping full serialization of Keras layer <object_detection.core.freezable_batch_norm.FreezableBatchNorm object at 0x0000010E3686E890>, because it is not built.\n",
      "WARNING:tensorflow:Skipping full serialization of Keras layer <keras.layers.core.lambda_layer.Lambda object at 0x0000010E3686CD60>, because it is not built.\n",
      "W1005 15:09:36.129861 21368 save_impl.py:71] Skipping full serialization of Keras layer <keras.layers.core.lambda_layer.Lambda object at 0x0000010E3686CD60>, because it is not built.\n",
      "WARNING:tensorflow:Skipping full serialization of Keras layer <keras.layers.convolutional.separable_conv2d.SeparableConv2D object at 0x0000010E39125BA0>, because it is not built.\n",
      "W1005 15:09:36.129861 21368 save_impl.py:71] Skipping full serialization of Keras layer <keras.layers.convolutional.separable_conv2d.SeparableConv2D object at 0x0000010E39125BA0>, because it is not built.\n",
      "WARNING:tensorflow:Skipping full serialization of Keras layer <object_detection.core.freezable_batch_norm.FreezableBatchNorm object at 0x0000010E39126350>, because it is not built.\n",
      "W1005 15:09:36.129861 21368 save_impl.py:71] Skipping full serialization of Keras layer <object_detection.core.freezable_batch_norm.FreezableBatchNorm object at 0x0000010E39126350>, because it is not built.\n",
      "WARNING:tensorflow:Skipping full serialization of Keras layer <keras.layers.core.lambda_layer.Lambda object at 0x0000010E39126470>, because it is not built.\n",
      "W1005 15:09:36.129861 21368 save_impl.py:71] Skipping full serialization of Keras layer <keras.layers.core.lambda_layer.Lambda object at 0x0000010E39126470>, because it is not built.\n",
      "WARNING:tensorflow:Skipping full serialization of Keras layer <keras.layers.convolutional.separable_conv2d.SeparableConv2D object at 0x0000010E391262F0>, because it is not built.\n",
      "W1005 15:09:36.129861 21368 save_impl.py:71] Skipping full serialization of Keras layer <keras.layers.convolutional.separable_conv2d.SeparableConv2D object at 0x0000010E391262F0>, because it is not built.\n",
      "WARNING:tensorflow:Skipping full serialization of Keras layer <object_detection.core.freezable_batch_norm.FreezableBatchNorm object at 0x0000010E39126B90>, because it is not built.\n",
      "W1005 15:09:36.129861 21368 save_impl.py:71] Skipping full serialization of Keras layer <object_detection.core.freezable_batch_norm.FreezableBatchNorm object at 0x0000010E39126B90>, because it is not built.\n",
      "WARNING:tensorflow:Skipping full serialization of Keras layer <keras.layers.core.lambda_layer.Lambda object at 0x0000010E39126980>, because it is not built.\n",
      "W1005 15:09:36.129861 21368 save_impl.py:71] Skipping full serialization of Keras layer <keras.layers.core.lambda_layer.Lambda object at 0x0000010E39126980>, because it is not built.\n",
      "WARNING:tensorflow:Skipping full serialization of Keras layer <keras.layers.convolutional.separable_conv2d.SeparableConv2D object at 0x0000010E39126CB0>, because it is not built.\n",
      "W1005 15:09:36.129861 21368 save_impl.py:71] Skipping full serialization of Keras layer <keras.layers.convolutional.separable_conv2d.SeparableConv2D object at 0x0000010E39126CB0>, because it is not built.\n",
      "WARNING:tensorflow:Skipping full serialization of Keras layer <object_detection.core.freezable_batch_norm.FreezableBatchNorm object at 0x0000010E39127460>, because it is not built.\n",
      "W1005 15:09:36.129861 21368 save_impl.py:71] Skipping full serialization of Keras layer <object_detection.core.freezable_batch_norm.FreezableBatchNorm object at 0x0000010E39127460>, because it is not built.\n",
      "WARNING:tensorflow:Skipping full serialization of Keras layer <keras.layers.core.lambda_layer.Lambda object at 0x0000010E391275E0>, because it is not built.\n",
      "W1005 15:09:36.129861 21368 save_impl.py:71] Skipping full serialization of Keras layer <keras.layers.core.lambda_layer.Lambda object at 0x0000010E391275E0>, because it is not built.\n",
      "WARNING:tensorflow:Skipping full serialization of Keras layer <object_detection.core.freezable_batch_norm.FreezableBatchNorm object at 0x0000010E2EBB7820>, because it is not built.\n",
      "W1005 15:09:36.129861 21368 save_impl.py:71] Skipping full serialization of Keras layer <object_detection.core.freezable_batch_norm.FreezableBatchNorm object at 0x0000010E2EBB7820>, because it is not built.\n",
      "WARNING:tensorflow:Skipping full serialization of Keras layer <keras.layers.core.lambda_layer.Lambda object at 0x0000010E391254B0>, because it is not built.\n",
      "W1005 15:09:36.129861 21368 save_impl.py:71] Skipping full serialization of Keras layer <keras.layers.core.lambda_layer.Lambda object at 0x0000010E391254B0>, because it is not built.\n",
      "WARNING:tensorflow:Skipping full serialization of Keras layer <object_detection.core.freezable_batch_norm.FreezableBatchNorm object at 0x0000010E39125660>, because it is not built.\n",
      "W1005 15:09:36.129861 21368 save_impl.py:71] Skipping full serialization of Keras layer <object_detection.core.freezable_batch_norm.FreezableBatchNorm object at 0x0000010E39125660>, because it is not built.\n",
      "WARNING:tensorflow:Skipping full serialization of Keras layer <keras.layers.core.lambda_layer.Lambda object at 0x0000010E39125720>, because it is not built.\n",
      "W1005 15:09:36.129861 21368 save_impl.py:71] Skipping full serialization of Keras layer <keras.layers.core.lambda_layer.Lambda object at 0x0000010E39125720>, because it is not built.\n",
      "WARNING:tensorflow:Skipping full serialization of Keras layer <object_detection.core.freezable_batch_norm.FreezableBatchNorm object at 0x0000010E35ACE710>, because it is not built.\n",
      "W1005 15:09:36.130853 21368 save_impl.py:71] Skipping full serialization of Keras layer <object_detection.core.freezable_batch_norm.FreezableBatchNorm object at 0x0000010E35ACE710>, because it is not built.\n",
      "WARNING:tensorflow:Skipping full serialization of Keras layer <keras.layers.core.lambda_layer.Lambda object at 0x0000010E35DE13F0>, because it is not built.\n",
      "W1005 15:09:36.130853 21368 save_impl.py:71] Skipping full serialization of Keras layer <keras.layers.core.lambda_layer.Lambda object at 0x0000010E35DE13F0>, because it is not built.\n",
      "WARNING:tensorflow:Skipping full serialization of Keras layer <object_detection.core.freezable_batch_norm.FreezableBatchNorm object at 0x0000010E35C58520>, because it is not built.\n",
      "W1005 15:09:36.130853 21368 save_impl.py:71] Skipping full serialization of Keras layer <object_detection.core.freezable_batch_norm.FreezableBatchNorm object at 0x0000010E35C58520>, because it is not built.\n",
      "WARNING:tensorflow:Skipping full serialization of Keras layer <keras.layers.core.lambda_layer.Lambda object at 0x0000010E35C5AAD0>, because it is not built.\n",
      "W1005 15:09:36.130853 21368 save_impl.py:71] Skipping full serialization of Keras layer <keras.layers.core.lambda_layer.Lambda object at 0x0000010E35C5AAD0>, because it is not built.\n",
      "WARNING:tensorflow:Skipping full serialization of Keras layer <object_detection.core.freezable_batch_norm.FreezableBatchNorm object at 0x0000010E2EBB7850>, because it is not built.\n",
      "W1005 15:09:36.130853 21368 save_impl.py:71] Skipping full serialization of Keras layer <object_detection.core.freezable_batch_norm.FreezableBatchNorm object at 0x0000010E2EBB7850>, because it is not built.\n",
      "WARNING:tensorflow:Skipping full serialization of Keras layer <keras.layers.core.lambda_layer.Lambda object at 0x0000010E3559E440>, because it is not built.\n",
      "W1005 15:09:36.130853 21368 save_impl.py:71] Skipping full serialization of Keras layer <keras.layers.core.lambda_layer.Lambda object at 0x0000010E3559E440>, because it is not built.\n",
      "WARNING:tensorflow:Skipping full serialization of Keras layer <object_detection.core.freezable_batch_norm.FreezableBatchNorm object at 0x0000010E355E4D30>, because it is not built.\n",
      "W1005 15:09:36.130853 21368 save_impl.py:71] Skipping full serialization of Keras layer <object_detection.core.freezable_batch_norm.FreezableBatchNorm object at 0x0000010E355E4D30>, because it is not built.\n",
      "WARNING:tensorflow:Skipping full serialization of Keras layer <keras.layers.core.lambda_layer.Lambda object at 0x0000010E355E4F40>, because it is not built.\n",
      "W1005 15:09:36.130853 21368 save_impl.py:71] Skipping full serialization of Keras layer <keras.layers.core.lambda_layer.Lambda object at 0x0000010E355E4F40>, because it is not built.\n",
      "WARNING:tensorflow:Skipping full serialization of Keras layer <object_detection.core.freezable_batch_norm.FreezableBatchNorm object at 0x0000010E355D72B0>, because it is not built.\n",
      "W1005 15:09:36.130853 21368 save_impl.py:71] Skipping full serialization of Keras layer <object_detection.core.freezable_batch_norm.FreezableBatchNorm object at 0x0000010E355D72B0>, because it is not built.\n",
      "WARNING:tensorflow:Skipping full serialization of Keras layer <keras.layers.core.lambda_layer.Lambda object at 0x0000010E355D4F40>, because it is not built.\n",
      "W1005 15:09:36.130853 21368 save_impl.py:71] Skipping full serialization of Keras layer <keras.layers.core.lambda_layer.Lambda object at 0x0000010E355D4F40>, because it is not built.\n",
      "WARNING:tensorflow:Skipping full serialization of Keras layer <object_detection.core.freezable_batch_norm.FreezableBatchNorm object at 0x0000010E355D5F60>, because it is not built.\n",
      "W1005 15:09:36.130853 21368 save_impl.py:71] Skipping full serialization of Keras layer <object_detection.core.freezable_batch_norm.FreezableBatchNorm object at 0x0000010E355D5F60>, because it is not built.\n",
      "WARNING:tensorflow:Skipping full serialization of Keras layer <keras.layers.core.lambda_layer.Lambda object at 0x0000010E355D60B0>, because it is not built.\n",
      "W1005 15:09:36.130853 21368 save_impl.py:71] Skipping full serialization of Keras layer <keras.layers.core.lambda_layer.Lambda object at 0x0000010E355D60B0>, because it is not built.\n",
      "WARNING:tensorflow:Skipping full serialization of Keras layer <object_detection.core.freezable_batch_norm.FreezableBatchNorm object at 0x0000010E2EBB7880>, because it is not built.\n",
      "W1005 15:09:36.130853 21368 save_impl.py:71] Skipping full serialization of Keras layer <object_detection.core.freezable_batch_norm.FreezableBatchNorm object at 0x0000010E2EBB7880>, because it is not built.\n",
      "WARNING:tensorflow:Skipping full serialization of Keras layer <keras.layers.core.lambda_layer.Lambda object at 0x0000010E36833B50>, because it is not built.\n",
      "W1005 15:09:36.130853 21368 save_impl.py:71] Skipping full serialization of Keras layer <keras.layers.core.lambda_layer.Lambda object at 0x0000010E36833B50>, because it is not built.\n",
      "WARNING:tensorflow:Skipping full serialization of Keras layer <object_detection.core.freezable_batch_norm.FreezableBatchNorm object at 0x0000010E36832920>, because it is not built.\n",
      "W1005 15:09:36.130853 21368 save_impl.py:71] Skipping full serialization of Keras layer <object_detection.core.freezable_batch_norm.FreezableBatchNorm object at 0x0000010E36832920>, because it is not built.\n",
      "WARNING:tensorflow:Skipping full serialization of Keras layer <keras.layers.core.lambda_layer.Lambda object at 0x0000010E36832F20>, because it is not built.\n",
      "W1005 15:09:36.130853 21368 save_impl.py:71] Skipping full serialization of Keras layer <keras.layers.core.lambda_layer.Lambda object at 0x0000010E36832F20>, because it is not built.\n",
      "WARNING:tensorflow:Skipping full serialization of Keras layer <object_detection.core.freezable_batch_norm.FreezableBatchNorm object at 0x0000010E36830DF0>, because it is not built.\n",
      "W1005 15:09:36.130853 21368 save_impl.py:71] Skipping full serialization of Keras layer <object_detection.core.freezable_batch_norm.FreezableBatchNorm object at 0x0000010E36830DF0>, because it is not built.\n",
      "WARNING:tensorflow:Skipping full serialization of Keras layer <keras.layers.core.lambda_layer.Lambda object at 0x0000010E368305B0>, because it is not built.\n",
      "W1005 15:09:36.130853 21368 save_impl.py:71] Skipping full serialization of Keras layer <keras.layers.core.lambda_layer.Lambda object at 0x0000010E368305B0>, because it is not built.\n",
      "WARNING:tensorflow:Skipping full serialization of Keras layer <object_detection.core.freezable_batch_norm.FreezableBatchNorm object at 0x0000010E368321D0>, because it is not built.\n",
      "W1005 15:09:36.131852 21368 save_impl.py:71] Skipping full serialization of Keras layer <object_detection.core.freezable_batch_norm.FreezableBatchNorm object at 0x0000010E368321D0>, because it is not built.\n",
      "WARNING:tensorflow:Skipping full serialization of Keras layer <keras.layers.core.lambda_layer.Lambda object at 0x0000010E36833A00>, because it is not built.\n",
      "W1005 15:09:36.131852 21368 save_impl.py:71] Skipping full serialization of Keras layer <keras.layers.core.lambda_layer.Lambda object at 0x0000010E36833A00>, because it is not built.\n",
      "WARNING:tensorflow:Skipping full serialization of Keras layer <object_detection.core.freezable_batch_norm.FreezableBatchNorm object at 0x0000010E35A62CE0>, because it is not built.\n",
      "W1005 15:09:36.131852 21368 save_impl.py:71] Skipping full serialization of Keras layer <object_detection.core.freezable_batch_norm.FreezableBatchNorm object at 0x0000010E35A62CE0>, because it is not built.\n",
      "WARNING:tensorflow:Skipping full serialization of Keras layer <keras.layers.core.lambda_layer.Lambda object at 0x0000010E3598B790>, because it is not built.\n",
      "W1005 15:09:36.131852 21368 save_impl.py:71] Skipping full serialization of Keras layer <keras.layers.core.lambda_layer.Lambda object at 0x0000010E3598B790>, because it is not built.\n",
      "WARNING:tensorflow:Skipping full serialization of Keras layer <object_detection.core.freezable_batch_norm.FreezableBatchNorm object at 0x0000010E355F1BA0>, because it is not built.\n",
      "W1005 15:09:36.131852 21368 save_impl.py:71] Skipping full serialization of Keras layer <object_detection.core.freezable_batch_norm.FreezableBatchNorm object at 0x0000010E355F1BA0>, because it is not built.\n",
      "WARNING:tensorflow:Skipping full serialization of Keras layer <keras.layers.core.lambda_layer.Lambda object at 0x0000010E355F0820>, because it is not built.\n",
      "W1005 15:09:36.131852 21368 save_impl.py:71] Skipping full serialization of Keras layer <keras.layers.core.lambda_layer.Lambda object at 0x0000010E355F0820>, because it is not built.\n",
      "WARNING:tensorflow:Skipping full serialization of Keras layer <object_detection.core.freezable_batch_norm.FreezableBatchNorm object at 0x0000010E35934160>, because it is not built.\n",
      "W1005 15:09:36.131852 21368 save_impl.py:71] Skipping full serialization of Keras layer <object_detection.core.freezable_batch_norm.FreezableBatchNorm object at 0x0000010E35934160>, because it is not built.\n",
      "WARNING:tensorflow:Skipping full serialization of Keras layer <keras.layers.core.lambda_layer.Lambda object at 0x0000010E35937880>, because it is not built.\n",
      "W1005 15:09:36.131852 21368 save_impl.py:71] Skipping full serialization of Keras layer <keras.layers.core.lambda_layer.Lambda object at 0x0000010E35937880>, because it is not built.\n",
      "WARNING:tensorflow:Skipping full serialization of Keras layer <object_detection.core.freezable_batch_norm.FreezableBatchNorm object at 0x0000010E35A6E920>, because it is not built.\n",
      "W1005 15:09:36.131852 21368 save_impl.py:71] Skipping full serialization of Keras layer <object_detection.core.freezable_batch_norm.FreezableBatchNorm object at 0x0000010E35A6E920>, because it is not built.\n",
      "WARNING:tensorflow:Skipping full serialization of Keras layer <keras.layers.core.lambda_layer.Lambda object at 0x0000010E35A6F5E0>, because it is not built.\n",
      "W1005 15:09:36.131852 21368 save_impl.py:71] Skipping full serialization of Keras layer <keras.layers.core.lambda_layer.Lambda object at 0x0000010E35A6F5E0>, because it is not built.\n",
      "W1005 15:09:51.799759 21368 save.py:233] Found untraced functions such as WeightSharedConvolutionalBoxPredictor_layer_call_fn, WeightSharedConvolutionalBoxPredictor_layer_call_and_return_conditional_losses, WeightSharedConvolutionalBoxHead_layer_call_fn, WeightSharedConvolutionalBoxHead_layer_call_and_return_conditional_losses, WeightSharedConvolutionalClassHead_layer_call_fn while saving (showing 5 of 173). These functions will not be directly callable after loading.\n",
      "INFO:tensorflow:Assets written to: Tensorflow\\workspace\\models\\my_ssd_mobnet\\export\\saved_model\\assets\n",
      "I1005 15:09:57.618711 21368 builder_impl.py:779] Assets written to: Tensorflow\\workspace\\models\\my_ssd_mobnet\\export\\saved_model\\assets\n",
      "INFO:tensorflow:Writing pipeline config file to Tensorflow\\workspace\\models\\my_ssd_mobnet\\export\\pipeline.config\n",
      "I1005 15:09:58.495698 21368 config_util.py:253] Writing pipeline config file to Tensorflow\\workspace\\models\\my_ssd_mobnet\\export\\pipeline.config\n"
     ]
    }
   ],
   "source": [
    "!{command}"
   ]
  },
  {
   "cell_type": "markdown",
   "metadata": {
    "id": "wTPmdqaXpfDK"
   },
   "source": [
    "# 11. Conversion to TFJS"
   ]
  },
  {
   "cell_type": "code",
   "execution_count": 30,
   "metadata": {
    "colab": {
     "base_uri": "https://localhost:8080/"
    },
    "id": "gZ6UzY_fpfDK",
    "outputId": "0c84722e-1c2b-4002-d857-80827ade828a",
    "scrolled": true
   },
   "outputs": [
    {
     "name": "stdout",
     "output_type": "stream",
     "text": [
      "Collecting tensorflowjs\n",
      "  Downloading tensorflowjs-3.20.0-py3-none-any.whl (81 kB)\n",
      "     ---------------------------------------- 81.1/81.1 kB 2.3 MB/s eta 0:00:00\n",
      "Requirement already satisfied: six<2,>=1.12.0 in d:\\programas\\osia\\tfod\\lib\\site-packages (from tensorflowjs) (1.16.0)\n",
      "Requirement already satisfied: importlib_resources>=5.9.0 in d:\\programas\\osia\\tfod\\lib\\site-packages (from tensorflowjs) (5.9.0)\n",
      "Collecting protobuf<3.20,>=3.9.2\n",
      "  Using cached protobuf-3.19.6-cp310-cp310-win_amd64.whl (895 kB)\n",
      "Collecting packaging~=20.9\n",
      "  Downloading packaging-20.9-py2.py3-none-any.whl (40 kB)\n",
      "     ---------------------------------------- 40.9/40.9 kB ? eta 0:00:00\n",
      "Requirement already satisfied: tensorflow<3,>=2.1.0 in d:\\programas\\osia\\tfod\\lib\\site-packages (from tensorflowjs) (2.9.2)\n",
      "Collecting flax>=0.5.3\n",
      "  Downloading flax-0.6.1-py3-none-any.whl (185 kB)\n",
      "     -------------------------------------- 185.6/185.6 kB 5.7 MB/s eta 0:00:00\n",
      "Requirement already satisfied: tensorflow-hub<0.13,>=0.7.0 in d:\\programas\\osia\\tfod\\lib\\site-packages (from tensorflowjs) (0.12.0)\n",
      "Collecting jax>=0.3.16\n",
      "  Downloading jax-0.3.21.tar.gz (1.1 MB)\n",
      "     ---------------------------------------- 1.1/1.1 MB 6.3 MB/s eta 0:00:00\n",
      "  Preparing metadata (setup.py): started\n",
      "  Preparing metadata (setup.py): finished with status 'done'\n",
      "Collecting optax\n",
      "  Downloading optax-0.1.3-py3-none-any.whl (145 kB)\n",
      "     -------------------------------------- 145.1/145.1 kB 9.0 MB/s eta 0:00:00\n",
      "Requirement already satisfied: numpy>=1.12 in d:\\programas\\osia\\tfod\\lib\\site-packages (from flax>=0.5.3->tensorflowjs) (1.22.4)\n",
      "Requirement already satisfied: typing-extensions>=4.1.1 in d:\\programas\\osia\\tfod\\lib\\site-packages (from flax>=0.5.3->tensorflowjs) (4.3.0)\n",
      "Collecting msgpack\n",
      "  Downloading msgpack-1.0.4-cp310-cp310-win_amd64.whl (61 kB)\n",
      "     ---------------------------------------- 61.3/61.3 kB 3.2 MB/s eta 0:00:00\n",
      "Collecting rich>=11.1\n",
      "  Downloading rich-12.6.0-py3-none-any.whl (237 kB)\n",
      "     -------------------------------------- 237.5/237.5 kB 7.3 MB/s eta 0:00:00\n",
      "Requirement already satisfied: PyYAML>=5.4.1 in d:\\programas\\osia\\tfod\\lib\\site-packages (from flax>=0.5.3->tensorflowjs) (5.4.1)\n",
      "Requirement already satisfied: matplotlib in d:\\programas\\osia\\tfod\\lib\\site-packages (from flax>=0.5.3->tensorflowjs) (3.6.0)\n",
      "Requirement already satisfied: absl-py in d:\\programas\\osia\\tfod\\lib\\site-packages (from jax>=0.3.16->tensorflowjs) (1.2.0)\n",
      "Requirement already satisfied: opt_einsum in d:\\programas\\osia\\tfod\\lib\\site-packages (from jax>=0.3.16->tensorflowjs) (3.3.0)\n",
      "Requirement already satisfied: scipy>=1.5 in d:\\programas\\osia\\tfod\\lib\\site-packages\\scipy-1.9.1-py3.10-win-amd64.egg (from jax>=0.3.16->tensorflowjs) (1.9.1)\n",
      "Requirement already satisfied: etils[epath] in d:\\programas\\osia\\tfod\\lib\\site-packages (from jax>=0.3.16->tensorflowjs) (0.8.0)\n",
      "Requirement already satisfied: pyparsing>=2.0.2 in d:\\programas\\osia\\tfod\\lib\\site-packages (from packaging~=20.9->tensorflowjs) (2.4.7)\n",
      "Requirement already satisfied: google-pasta>=0.1.1 in d:\\programas\\osia\\tfod\\lib\\site-packages (from tensorflow<3,>=2.1.0->tensorflowjs) (0.2.0)\n",
      "Requirement already satisfied: tensorflow-estimator<2.10.0,>=2.9.0rc0 in d:\\programas\\osia\\tfod\\lib\\site-packages (from tensorflow<3,>=2.1.0->tensorflowjs) (2.9.0)\n",
      "Requirement already satisfied: termcolor>=1.1.0 in d:\\programas\\osia\\tfod\\lib\\site-packages (from tensorflow<3,>=2.1.0->tensorflowjs) (2.0.1)\n",
      "Requirement already satisfied: grpcio<2.0,>=1.24.3 in d:\\programas\\osia\\tfod\\lib\\site-packages (from tensorflow<3,>=2.1.0->tensorflowjs) (1.49.1)\n",
      "Requirement already satisfied: keras-preprocessing>=1.1.1 in d:\\programas\\osia\\tfod\\lib\\site-packages (from tensorflow<3,>=2.1.0->tensorflowjs) (1.1.2)\n",
      "Requirement already satisfied: keras<2.10.0,>=2.9.0rc0 in d:\\programas\\osia\\tfod\\lib\\site-packages (from tensorflow<3,>=2.1.0->tensorflowjs) (2.9.0)\n",
      "Requirement already satisfied: tensorflow-io-gcs-filesystem>=0.23.1 in d:\\programas\\osia\\tfod\\lib\\site-packages (from tensorflow<3,>=2.1.0->tensorflowjs) (0.27.0)\n",
      "Requirement already satisfied: libclang>=13.0.0 in d:\\programas\\osia\\tfod\\lib\\site-packages (from tensorflow<3,>=2.1.0->tensorflowjs) (14.0.6)\n",
      "Requirement already satisfied: h5py>=2.9.0 in d:\\programas\\osia\\tfod\\lib\\site-packages (from tensorflow<3,>=2.1.0->tensorflowjs) (3.7.0)\n",
      "Requirement already satisfied: astunparse>=1.6.0 in d:\\programas\\osia\\tfod\\lib\\site-packages (from tensorflow<3,>=2.1.0->tensorflowjs) (1.6.3)\n",
      "Requirement already satisfied: flatbuffers<2,>=1.12 in d:\\programas\\osia\\tfod\\lib\\site-packages (from tensorflow<3,>=2.1.0->tensorflowjs) (1.12)\n",
      "Requirement already satisfied: gast<=0.4.0,>=0.2.1 in d:\\programas\\osia\\tfod\\lib\\site-packages (from tensorflow<3,>=2.1.0->tensorflowjs) (0.4.0)\n",
      "Requirement already satisfied: wrapt>=1.11.0 in d:\\programas\\osia\\tfod\\lib\\site-packages (from tensorflow<3,>=2.1.0->tensorflowjs) (1.14.1)\n",
      "Requirement already satisfied: setuptools in d:\\programas\\osia\\tfod\\lib\\site-packages (from tensorflow<3,>=2.1.0->tensorflowjs) (63.2.0)\n",
      "Requirement already satisfied: tensorboard<2.10,>=2.9 in d:\\programas\\osia\\tfod\\lib\\site-packages (from tensorflow<3,>=2.1.0->tensorflowjs) (2.9.1)\n",
      "Requirement already satisfied: wheel<1.0,>=0.23.0 in d:\\programas\\osia\\tfod\\lib\\site-packages (from astunparse>=1.6.0->tensorflow<3,>=2.1.0->tensorflowjs) (0.37.1)\n",
      "Collecting commonmark<0.10.0,>=0.9.0\n",
      "  Downloading commonmark-0.9.1-py2.py3-none-any.whl (51 kB)\n",
      "     ---------------------------------------- 51.1/51.1 kB 2.6 MB/s eta 0:00:00\n",
      "Requirement already satisfied: pygments<3.0.0,>=2.6.0 in d:\\programas\\osia\\tfod\\lib\\site-packages (from rich>=11.1->flax>=0.5.3->tensorflowjs) (2.13.0)\n",
      "Requirement already satisfied: google-auth<3,>=1.6.3 in d:\\programas\\osia\\tfod\\lib\\site-packages (from tensorboard<2.10,>=2.9->tensorflow<3,>=2.1.0->tensorflowjs) (2.12.0)\n",
      "Requirement already satisfied: werkzeug>=1.0.1 in d:\\programas\\osia\\tfod\\lib\\site-packages (from tensorboard<2.10,>=2.9->tensorflow<3,>=2.1.0->tensorflowjs) (2.2.2)\n",
      "Requirement already satisfied: markdown>=2.6.8 in d:\\programas\\osia\\tfod\\lib\\site-packages (from tensorboard<2.10,>=2.9->tensorflow<3,>=2.1.0->tensorflowjs) (3.4.1)\n",
      "Requirement already satisfied: requests<3,>=2.21.0 in d:\\programas\\osia\\tfod\\lib\\site-packages (from tensorboard<2.10,>=2.9->tensorflow<3,>=2.1.0->tensorflowjs) (2.28.1)\n",
      "Requirement already satisfied: tensorboard-plugin-wit>=1.6.0 in d:\\programas\\osia\\tfod\\lib\\site-packages (from tensorboard<2.10,>=2.9->tensorflow<3,>=2.1.0->tensorflowjs) (1.8.1)\n",
      "Requirement already satisfied: google-auth-oauthlib<0.5,>=0.4.1 in d:\\programas\\osia\\tfod\\lib\\site-packages (from tensorboard<2.10,>=2.9->tensorflow<3,>=2.1.0->tensorflowjs) (0.4.6)\n",
      "Requirement already satisfied: tensorboard-data-server<0.7.0,>=0.6.0 in d:\\programas\\osia\\tfod\\lib\\site-packages (from tensorboard<2.10,>=2.9->tensorflow<3,>=2.1.0->tensorflowjs) (0.6.1)\n",
      "Requirement already satisfied: zipp in d:\\programas\\osia\\tfod\\lib\\site-packages (from etils[epath]->jax>=0.3.16->tensorflowjs) (3.8.1)\n",
      "Requirement already satisfied: cycler>=0.10 in d:\\programas\\osia\\tfod\\lib\\site-packages (from matplotlib->flax>=0.5.3->tensorflowjs) (0.11.0)\n",
      "Requirement already satisfied: fonttools>=4.22.0 in d:\\programas\\osia\\tfod\\lib\\site-packages (from matplotlib->flax>=0.5.3->tensorflowjs) (4.37.4)\n",
      "Requirement already satisfied: pillow>=6.2.0 in d:\\programas\\osia\\tfod\\lib\\site-packages (from matplotlib->flax>=0.5.3->tensorflowjs) (9.2.0)\n",
      "Requirement already satisfied: contourpy>=1.0.1 in d:\\programas\\osia\\tfod\\lib\\site-packages (from matplotlib->flax>=0.5.3->tensorflowjs) (1.0.5)\n",
      "Requirement already satisfied: kiwisolver>=1.0.1 in d:\\programas\\osia\\tfod\\lib\\site-packages (from matplotlib->flax>=0.5.3->tensorflowjs) (1.4.4)\n",
      "Requirement already satisfied: python-dateutil>=2.7 in d:\\programas\\osia\\tfod\\lib\\site-packages (from matplotlib->flax>=0.5.3->tensorflowjs) (2.8.2)\n",
      "Collecting chex>=0.0.4\n",
      "  Downloading chex-0.1.5-py3-none-any.whl (85 kB)\n",
      "     ---------------------------------------- 85.3/85.3 kB 4.7 MB/s eta 0:00:00\n",
      "Collecting optax\n",
      "  Downloading optax-0.1.2-py3-none-any.whl (140 kB)\n",
      "     -------------------------------------- 140.7/140.7 kB 8.2 MB/s eta 0:00:00\n",
      "  Downloading optax-0.1.1-py3-none-any.whl (136 kB)\n",
      "     -------------------------------------- 136.3/136.3 kB 4.1 MB/s eta 0:00:00\n",
      "  Downloading optax-0.1.0-py3-none-any.whl (126 kB)\n",
      "     -------------------------------------- 126.9/126.9 kB 7.8 MB/s eta 0:00:00\n",
      "  Downloading optax-0.0.91-py3-none-any.whl (126 kB)\n",
      "     -------------------------------------- 126.9/126.9 kB 3.8 MB/s eta 0:00:00\n",
      "  Downloading optax-0.0.9-py3-none-any.whl (118 kB)\n",
      "     -------------------------------------- 119.0/119.0 kB 7.2 MB/s eta 0:00:00\n",
      "  Downloading optax-0.0.8-py3-none-any.whl (113 kB)\n",
      "     -------------------------------------- 113.2/113.2 kB 6.4 MB/s eta 0:00:00\n",
      "  Downloading optax-0.0.6-py3-none-any.whl (96 kB)\n",
      "     ---------------------------------------- 96.2/96.2 kB 2.7 MB/s eta 0:00:00\n",
      "  Downloading optax-0.0.5-py3-none-any.whl (89 kB)\n",
      "     ---------------------------------------- 89.7/89.7 kB 5.3 MB/s eta 0:00:00\n",
      "  Downloading optax-0.0.3-py3-none-any.whl (73 kB)\n",
      "     ---------------------------------------- 73.7/73.7 kB 4.2 MB/s eta 0:00:00\n",
      "  Downloading optax-0.0.2-py3-none-any.whl (54 kB)\n",
      "     ---------------------------------------- 54.4/54.4 kB 2.9 MB/s eta 0:00:00\n",
      "  Downloading optax-0.0.1-py3-none-any.whl (49 kB)\n",
      "     ---------------------------------------- 49.4/49.4 kB 2.4 MB/s eta 0:00:00\n",
      "INFO: pip is looking at multiple versions of msgpack to determine which version is compatible with other requirements. This could take a while.\n",
      "Collecting msgpack\n",
      "  Downloading msgpack-1.0.3-cp310-cp310-win_amd64.whl (69 kB)\n",
      "     ---------------------------------------- 69.8/69.8 kB 3.7 MB/s eta 0:00:00\n",
      "INFO: pip is looking at multiple versions of matplotlib to determine which version is compatible with other requirements. This could take a while.\n",
      "Collecting matplotlib\n",
      "  Using cached matplotlib-3.6.0-cp310-cp310-win_amd64.whl (7.2 MB)\n",
      "INFO: pip is looking at multiple versions of etils[epath] to determine which version is compatible with other requirements. This could take a while.\n",
      "Collecting etils[epath]\n",
      "  Using cached etils-0.8.0-py3-none-any.whl (127 kB)\n",
      "INFO: pip is looking at multiple versions of wrapt to determine which version is compatible with other requirements. This could take a while.\n",
      "Collecting wrapt>=1.11.0\n",
      "  Using cached wrapt-1.14.1-cp310-cp310-win_amd64.whl (35 kB)\n",
      "INFO: pip is looking at multiple versions of typing-extensions to determine which version is compatible with other requirements. This could take a while.\n",
      "Collecting typing-extensions>=4.1.1\n",
      "  Using cached typing_extensions-4.3.0-py3-none-any.whl (25 kB)\n",
      "INFO: pip is looking at multiple versions of termcolor to determine which version is compatible with other requirements. This could take a while.\n",
      "Collecting termcolor>=1.1.0\n",
      "  Using cached termcolor-2.0.1-py3-none-any.whl (5.4 kB)\n",
      "INFO: pip is looking at multiple versions of tensorflow-io-gcs-filesystem to determine which version is compatible with other requirements. This could take a while.\n",
      "Collecting tensorflow-io-gcs-filesystem>=0.23.1\n",
      "  Using cached tensorflow_io_gcs_filesystem-0.27.0-cp310-cp310-win_amd64.whl (1.5 MB)\n",
      "INFO: pip is looking at multiple versions of tensorflow-estimator to determine which version is compatible with other requirements. This could take a while.\n",
      "Collecting tensorflow-estimator<2.10.0,>=2.9.0rc0\n",
      "  Using cached tensorflow_estimator-2.9.0-py2.py3-none-any.whl (438 kB)\n",
      "INFO: pip is looking at multiple versions of tensorboard to determine which version is compatible with other requirements. This could take a while.\n",
      "Collecting tensorboard<2.10,>=2.9\n",
      "  Using cached tensorboard-2.9.1-py3-none-any.whl (5.8 MB)\n",
      "INFO: pip is looking at multiple versions of scipy to determine which version is compatible with other requirements. This could take a while.\n",
      "Collecting scipy>=1.5\n",
      "  Downloading scipy-1.9.1-cp310-cp310-win_amd64.whl (38.6 MB)\n",
      "     ---------------------------------------- 38.6/38.6 MB 5.7 MB/s eta 0:00:00\n",
      "INFO: pip is looking at multiple versions of rich to determine which version is compatible with other requirements. This could take a while.\n",
      "Collecting rich>=11.1\n",
      "  Downloading rich-12.5.1-py3-none-any.whl (235 kB)\n",
      "     -------------------------------------- 235.6/235.6 kB 4.8 MB/s eta 0:00:00\n",
      "INFO: pip is looking at multiple versions of pyyaml to determine which version is compatible with other requirements. This could take a while.\n",
      "Collecting PyYAML>=5.4.1\n",
      "  Using cached PyYAML-6.0-cp310-cp310-win_amd64.whl (151 kB)\n",
      "INFO: pip is looking at multiple versions of pyparsing to determine which version is compatible with other requirements. This could take a while.\n",
      "Collecting pyparsing>=2.0.2\n",
      "  Using cached pyparsing-3.0.9-py3-none-any.whl (98 kB)\n",
      "INFO: pip is looking at multiple versions of opt-einsum to determine which version is compatible with other requirements. This could take a while.\n",
      "Collecting opt_einsum\n",
      "  Using cached opt_einsum-3.3.0-py3-none-any.whl (65 kB)\n",
      "INFO: pip is looking at multiple versions of numpy to determine which version is compatible with other requirements. This could take a while.\n",
      "Collecting numpy>=1.12\n",
      "  Using cached numpy-1.23.3-cp310-cp310-win_amd64.whl (14.6 MB)\n",
      "INFO: pip is looking at multiple versions of libclang to determine which version is compatible with other requirements. This could take a while.\n",
      "Collecting libclang>=13.0.0\n",
      "  Using cached libclang-14.0.6-py2.py3-none-win_amd64.whl (14.2 MB)\n",
      "INFO: pip is looking at multiple versions of keras-preprocessing to determine which version is compatible with other requirements. This could take a while.\n",
      "Collecting keras-preprocessing>=1.1.1\n",
      "  Using cached Keras_Preprocessing-1.1.2-py2.py3-none-any.whl (42 kB)\n",
      "INFO: pip is looking at multiple versions of keras to determine which version is compatible with other requirements. This could take a while.\n",
      "Collecting keras<2.10.0,>=2.9.0rc0\n",
      "  Using cached keras-2.9.0-py2.py3-none-any.whl (1.6 MB)\n",
      "INFO: pip is looking at multiple versions of h5py to determine which version is compatible with other requirements. This could take a while.\n",
      "Collecting h5py>=2.9.0\n",
      "  Using cached h5py-3.7.0-cp310-cp310-win_amd64.whl (2.6 MB)\n",
      "INFO: pip is looking at multiple versions of grpcio to determine which version is compatible with other requirements. This could take a while.\n",
      "Collecting grpcio<2.0,>=1.24.3\n",
      "  Using cached grpcio-1.49.1-cp310-cp310-win_amd64.whl (3.6 MB)\n",
      "INFO: pip is looking at multiple versions of google-pasta to determine which version is compatible with other requirements. This could take a while.\n",
      "Collecting google-pasta>=0.1.1\n",
      "  Using cached google_pasta-0.2.0-py3-none-any.whl (57 kB)\n",
      "INFO: pip is looking at multiple versions of gast to determine which version is compatible with other requirements. This could take a while.\n",
      "Collecting gast<=0.4.0,>=0.2.1\n",
      "  Using cached gast-0.4.0-py3-none-any.whl (9.8 kB)\n",
      "INFO: pip is looking at multiple versions of flatbuffers to determine which version is compatible with other requirements. This could take a while.\n",
      "Collecting flatbuffers<2,>=1.12\n",
      "  Using cached flatbuffers-1.12-py2.py3-none-any.whl (15 kB)\n",
      "INFO: pip is looking at multiple versions of astunparse to determine which version is compatible with other requirements. This could take a while.\n",
      "Collecting astunparse>=1.6.0\n",
      "  Using cached astunparse-1.6.3-py2.py3-none-any.whl (12 kB)\n",
      "INFO: pip is looking at multiple versions of absl-py to determine which version is compatible with other requirements. This could take a while.\n",
      "Collecting absl-py\n",
      "  Using cached absl_py-1.2.0-py3-none-any.whl (123 kB)\n",
      "INFO: pip is looking at multiple versions of tensorflow-hub to determine which version is compatible with other requirements. This could take a while.\n",
      "Collecting tensorflow-hub<0.13,>=0.7.0\n",
      "  Using cached tensorflow_hub-0.12.0-py2.py3-none-any.whl (108 kB)\n",
      "INFO: pip is looking at multiple versions of tensorflow to determine which version is compatible with other requirements. This could take a while.\n",
      "Collecting tensorflow<3,>=2.1.0\n",
      "  Using cached tensorflow-2.10.0-cp310-cp310-win_amd64.whl (455.9 MB)\n",
      "INFO: pip is looking at multiple versions of six to determine which version is compatible with other requirements. This could take a while.\n",
      "Collecting six<2,>=1.12.0\n",
      "  Using cached six-1.16.0-py2.py3-none-any.whl (11 kB)\n",
      "INFO: pip is looking at multiple versions of protobuf to determine which version is compatible with other requirements. This could take a while.\n",
      "Collecting protobuf<3.20,>=3.9.2\n",
      "  Downloading protobuf-3.19.5-cp310-cp310-win_amd64.whl (895 kB)\n",
      "     -------------------------------------- 895.7/895.7 kB 5.6 MB/s eta 0:00:00\n",
      "INFO: pip is looking at multiple versions of packaging to determine which version is compatible with other requirements. This could take a while.\n",
      "INFO: pip is looking at multiple versions of <Python from Requires-Python> to determine which version is compatible with other requirements. This could take a while.\n",
      "INFO: pip is looking at multiple versions of jax to determine which version is compatible with other requirements. This could take a while.\n",
      "Collecting jax>=0.3.16\n",
      "  Downloading jax-0.3.20.tar.gz (1.1 MB)\n",
      "     ---------------------------------------- 1.1/1.1 MB 6.3 MB/s eta 0:00:00\n",
      "  Preparing metadata (setup.py): started\n",
      "  Preparing metadata (setup.py): finished with status 'done'\n",
      "INFO: pip is looking at multiple versions of importlib-resources to determine which version is compatible with other requirements. This could take a while.\n",
      "Collecting importlib_resources>=5.9.0\n",
      "  Using cached importlib_resources-5.9.0-py3-none-any.whl (33 kB)\n",
      "INFO: pip is looking at multiple versions of flax to determine which version is compatible with other requirements. This could take a while.\n",
      "Collecting flax>=0.5.3\n",
      "  Downloading flax-0.6.0-py3-none-any.whl (180 kB)\n",
      "     -------------------------------------- 180.1/180.1 kB 5.5 MB/s eta 0:00:00\n",
      "Collecting rich~=11.1\n",
      "  Downloading rich-11.2.0-py3-none-any.whl (217 kB)\n",
      "     -------------------------------------- 217.3/217.3 kB 6.7 MB/s eta 0:00:00\n",
      "Collecting flax>=0.5.3\n",
      "  Downloading flax-0.5.3-py3-none-any.whl (202 kB)\n",
      "     -------------------------------------- 202.0/202.0 kB 4.1 MB/s eta 0:00:00\n",
      "Collecting tensorstore\n",
      "  Downloading tensorstore-0.1.26-cp310-cp310-win_amd64.whl (6.1 MB)\n",
      "     ---------------------------------------- 6.1/6.1 MB 5.3 MB/s eta 0:00:00\n",
      "INFO: pip is looking at multiple versions of tensorflowjs to determine which version is compatible with other requirements. This could take a while.\n",
      "Collecting tensorflowjs\n",
      "  Downloading tensorflowjs-3.19.0-py3-none-any.whl (78 kB)\n",
      "     ---------------------------------------- 78.4/78.4 kB 4.3 MB/s eta 0:00:00\n",
      "Collecting protobuf==3.20.0\n",
      "  Downloading protobuf-3.20.0-cp310-cp310-win_amd64.whl (903 kB)\n",
      "     -------------------------------------- 903.8/903.8 kB 7.1 MB/s eta 0:00:00\n",
      "Collecting tensorflow-estimator<2.11,>=2.10.0\n",
      "  Using cached tensorflow_estimator-2.10.0-py2.py3-none-any.whl (438 kB)\n",
      "Collecting flatbuffers>=2.0\n",
      "  Using cached flatbuffers-22.9.24-py2.py3-none-any.whl (26 kB)\n",
      "Collecting keras<2.11,>=2.10.0\n",
      "  Using cached keras-2.10.0-py2.py3-none-any.whl (1.7 MB)\n",
      "Collecting tensorflow<3,>=2.1.0\n",
      "  Downloading tensorflow-2.9.1-cp310-cp310-win_amd64.whl (444.1 MB)\n",
      "     ------------------------------------ 444.1/444.1 MB 659.1 kB/s eta 0:00:00\n",
      "  Downloading tensorflow-2.9.0-cp310-cp310-win_amd64.whl (444.1 MB)\n",
      "     -------------------------------------- 444.1/444.1 MB 2.7 MB/s eta 0:00:00\n",
      "Collecting tensorboard<2.10,>=2.9\n",
      "  Downloading tensorboard-2.9.0-py3-none-any.whl (5.8 MB)\n",
      "     ---------------------------------------- 5.8/5.8 MB 5.6 MB/s eta 0:00:00\n",
      "Requirement already satisfied: pyasn1-modules>=0.2.1 in d:\\programas\\osia\\tfod\\lib\\site-packages (from google-auth<3,>=1.6.3->tensorboard<2.10,>=2.9->tensorflow<3,>=2.1.0->tensorflowjs) (0.2.8)\n",
      "Requirement already satisfied: rsa<5,>=3.1.4 in d:\\programas\\osia\\tfod\\lib\\site-packages (from google-auth<3,>=1.6.3->tensorboard<2.10,>=2.9->tensorflow<3,>=2.1.0->tensorflowjs) (4.9)\n",
      "Requirement already satisfied: cachetools<6.0,>=2.0.0 in d:\\programas\\osia\\tfod\\lib\\site-packages (from google-auth<3,>=1.6.3->tensorboard<2.10,>=2.9->tensorflow<3,>=2.1.0->tensorflowjs) (5.2.0)\n",
      "Requirement already satisfied: requests-oauthlib>=0.7.0 in d:\\programas\\osia\\tfod\\lib\\site-packages (from google-auth-oauthlib<0.5,>=0.4.1->tensorboard<2.10,>=2.9->tensorflow<3,>=2.1.0->tensorflowjs) (1.3.1)\n",
      "Requirement already satisfied: idna<4,>=2.5 in d:\\programas\\osia\\tfod\\lib\\site-packages (from requests<3,>=2.21.0->tensorboard<2.10,>=2.9->tensorflow<3,>=2.1.0->tensorflowjs) (3.4)\n",
      "Requirement already satisfied: urllib3<1.27,>=1.21.1 in d:\\programas\\osia\\tfod\\lib\\site-packages (from requests<3,>=2.21.0->tensorboard<2.10,>=2.9->tensorflow<3,>=2.1.0->tensorflowjs) (1.26.12)\n",
      "Requirement already satisfied: certifi>=2017.4.17 in d:\\programas\\osia\\tfod\\lib\\site-packages (from requests<3,>=2.21.0->tensorboard<2.10,>=2.9->tensorflow<3,>=2.1.0->tensorflowjs) (2022.9.24)\n",
      "Requirement already satisfied: charset-normalizer<3,>=2 in d:\\programas\\osia\\tfod\\lib\\site-packages (from requests<3,>=2.21.0->tensorboard<2.10,>=2.9->tensorflow<3,>=2.1.0->tensorflowjs) (2.1.1)\n",
      "Requirement already satisfied: MarkupSafe>=2.1.1 in d:\\programas\\osia\\tfod\\lib\\site-packages (from werkzeug>=1.0.1->tensorboard<2.10,>=2.9->tensorflow<3,>=2.1.0->tensorflowjs) (2.1.1)\n",
      "Requirement already satisfied: pyasn1<0.5.0,>=0.4.6 in d:\\programas\\osia\\tfod\\lib\\site-packages (from pyasn1-modules>=0.2.1->google-auth<3,>=1.6.3->tensorboard<2.10,>=2.9->tensorflow<3,>=2.1.0->tensorflowjs) (0.4.8)\n",
      "Requirement already satisfied: oauthlib>=3.0.0 in d:\\programas\\osia\\tfod\\lib\\site-packages (from requests-oauthlib>=0.7.0->google-auth-oauthlib<0.5,>=0.4.1->tensorboard<2.10,>=2.9->tensorflow<3,>=2.1.0->tensorflowjs) (3.2.1)\n",
      "Installing collected packages: protobuf, packaging, tensorboard, tensorflow, tensorflowjs\n",
      "  Attempting uninstall: protobuf\n",
      "    Found existing installation: protobuf 4.21.7\n",
      "    Uninstalling protobuf-4.21.7:\n",
      "      Successfully uninstalled protobuf-4.21.7\n",
      "  Rolling back uninstall of protobuf\n",
      "  Moving to d:\\programas\\osia\\tfod\\lib\\site-packages\\google\\_upb\\\n",
      "   from D:\\Programas\\OSIA\\tfod\\Lib\\site-packages\\google\\~upb\n",
      "  Moving to d:\\programas\\osia\\tfod\\lib\\site-packages\\google\\protobuf\\__init__.py\n",
      "   from C:\\Users\\Ivan\\AppData\\Local\\Temp\\pip-uninstall-zwg1bq61\\__init__.py\n",
      "  Moving to d:\\programas\\osia\\tfod\\lib\\site-packages\\google\\protobuf\\__pycache__\\\n",
      "   from D:\\Programas\\OSIA\\tfod\\Lib\\site-packages\\google\\protobuf\\~_pycache__\n",
      "  Moving to d:\\programas\\osia\\tfod\\lib\\site-packages\\google\\protobuf\\any_pb2.py\n",
      "   from C:\\Users\\Ivan\\AppData\\Local\\Temp\\pip-uninstall-zwg1bq61\\any_pb2.py\n",
      "  Moving to d:\\programas\\osia\\tfod\\lib\\site-packages\\google\\protobuf\\api_pb2.py\n",
      "   from C:\\Users\\Ivan\\AppData\\Local\\Temp\\pip-uninstall-zwg1bq61\\api_pb2.py\n",
      "  Moving to d:\\programas\\osia\\tfod\\lib\\site-packages\\google\\protobuf\\compiler\\\n",
      "   from D:\\Programas\\OSIA\\tfod\\Lib\\site-packages\\google\\protobuf\\~ompiler\n",
      "  Moving to d:\\programas\\osia\\tfod\\lib\\site-packages\\google\\protobuf\\descriptor.py\n",
      "   from C:\\Users\\Ivan\\AppData\\Local\\Temp\\pip-uninstall-zwg1bq61\\descriptor.py\n",
      "  Moving to d:\\programas\\osia\\tfod\\lib\\site-packages\\google\\protobuf\\descriptor_database.py\n",
      "   from C:\\Users\\Ivan\\AppData\\Local\\Temp\\pip-uninstall-zwg1bq61\\descriptor_database.py\n",
      "  Moving to d:\\programas\\osia\\tfod\\lib\\site-packages\\google\\protobuf\\descriptor_pb2.py\n",
      "   from C:\\Users\\Ivan\\AppData\\Local\\Temp\\pip-uninstall-zwg1bq61\\descriptor_pb2.py\n",
      "  Moving to d:\\programas\\osia\\tfod\\lib\\site-packages\\google\\protobuf\\descriptor_pool.py\n",
      "   from C:\\Users\\Ivan\\AppData\\Local\\Temp\\pip-uninstall-zwg1bq61\\descriptor_pool.py\n",
      "  Moving to d:\\programas\\osia\\tfod\\lib\\site-packages\\google\\protobuf\\duration_pb2.py\n",
      "   from C:\\Users\\Ivan\\AppData\\Local\\Temp\\pip-uninstall-zwg1bq61\\duration_pb2.py\n",
      "  Moving to d:\\programas\\osia\\tfod\\lib\\site-packages\\google\\protobuf\\empty_pb2.py\n",
      "   from C:\\Users\\Ivan\\AppData\\Local\\Temp\\pip-uninstall-zwg1bq61\\empty_pb2.py\n",
      "  Moving to d:\\programas\\osia\\tfod\\lib\\site-packages\\google\\protobuf\\field_mask_pb2.py\n",
      "   from C:\\Users\\Ivan\\AppData\\Local\\Temp\\pip-uninstall-zwg1bq61\\field_mask_pb2.py\n",
      "  Moving to d:\\programas\\osia\\tfod\\lib\\site-packages\\google\\protobuf\\internal\\__init__.py\n",
      "   from C:\\Users\\Ivan\\AppData\\Local\\Temp\\pip-uninstall-zwg1bq61\\internal\\__init__.py\n",
      "  Moving to d:\\programas\\osia\\tfod\\lib\\site-packages\\google\\protobuf\\internal\\__pycache__\\__init__.cpython-310.pyc\n",
      "   from C:\\Users\\Ivan\\AppData\\Local\\Temp\\pip-uninstall-zwg1bq61\\internal\\__pycache__\\__init__.cpython-310.pyc\n",
      "  Moving to d:\\programas\\osia\\tfod\\lib\\site-packages\\google\\protobuf\\internal\\__pycache__\\_parameterized.cpython-310.pyc\n",
      "   from C:\\Users\\Ivan\\AppData\\Local\\Temp\\pip-uninstall-zwg1bq61\\internal\\__pycache__\\_parameterized.cpython-310.pyc\n",
      "  Moving to d:\\programas\\osia\\tfod\\lib\\site-packages\\google\\protobuf\\internal\\__pycache__\\api_implementation.cpython-310.pyc\n",
      "   from C:\\Users\\Ivan\\AppData\\Local\\Temp\\pip-uninstall-zwg1bq61\\internal\\__pycache__\\api_implementation.cpython-310.pyc\n",
      "  Moving to d:\\programas\\osia\\tfod\\lib\\site-packages\\google\\protobuf\\internal\\__pycache__\\builder.cpython-310.pyc\n",
      "   from C:\\Users\\Ivan\\AppData\\Local\\Temp\\pip-uninstall-zwg1bq61\\internal\\__pycache__\\builder.cpython-310.pyc\n",
      "  Moving to d:\\programas\\osia\\tfod\\lib\\site-packages\\google\\protobuf\\internal\\__pycache__\\containers.cpython-310.pyc\n",
      "   from C:\\Users\\Ivan\\AppData\\Local\\Temp\\pip-uninstall-zwg1bq61\\internal\\__pycache__\\containers.cpython-310.pyc\n",
      "  Moving to d:\\programas\\osia\\tfod\\lib\\site-packages\\google\\protobuf\\internal\\__pycache__\\decoder.cpython-310.pyc\n",
      "   from C:\\Users\\Ivan\\AppData\\Local\\Temp\\pip-uninstall-zwg1bq61\\internal\\__pycache__\\decoder.cpython-310.pyc\n",
      "  Moving to d:\\programas\\osia\\tfod\\lib\\site-packages\\google\\protobuf\\internal\\__pycache__\\descriptor_database_test.cpython-310.pyc\n",
      "   from C:\\Users\\Ivan\\AppData\\Local\\Temp\\pip-uninstall-zwg1bq61\\internal\\__pycache__\\descriptor_database_test.cpython-310.pyc\n",
      "  Moving to d:\\programas\\osia\\tfod\\lib\\site-packages\\google\\protobuf\\internal\\__pycache__\\descriptor_pool_test.cpython-310.pyc\n",
      "   from C:\\Users\\Ivan\\AppData\\Local\\Temp\\pip-uninstall-zwg1bq61\\internal\\__pycache__\\descriptor_pool_test.cpython-310.pyc\n",
      "  Moving to d:\\programas\\osia\\tfod\\lib\\site-packages\\google\\protobuf\\internal\\__pycache__\\descriptor_test.cpython-310.pyc\n",
      "   from C:\\Users\\Ivan\\AppData\\Local\\Temp\\pip-uninstall-zwg1bq61\\internal\\__pycache__\\descriptor_test.cpython-310.pyc\n",
      "  Moving to d:\\programas\\osia\\tfod\\lib\\site-packages\\google\\protobuf\\internal\\__pycache__\\encoder.cpython-310.pyc\n",
      "   from C:\\Users\\Ivan\\AppData\\Local\\Temp\\pip-uninstall-zwg1bq61\\internal\\__pycache__\\encoder.cpython-310.pyc\n",
      "  Moving to d:\\programas\\osia\\tfod\\lib\\site-packages\\google\\protobuf\\internal\\__pycache__\\enum_type_wrapper.cpython-310.pyc\n",
      "   from C:\\Users\\Ivan\\AppData\\Local\\Temp\\pip-uninstall-zwg1bq61\\internal\\__pycache__\\enum_type_wrapper.cpython-310.pyc\n",
      "  Moving to d:\\programas\\osia\\tfod\\lib\\site-packages\\google\\protobuf\\internal\\__pycache__\\extension_dict.cpython-310.pyc\n",
      "   from C:\\Users\\Ivan\\AppData\\Local\\Temp\\pip-uninstall-zwg1bq61\\internal\\__pycache__\\extension_dict.cpython-310.pyc\n",
      "  Moving to d:\\programas\\osia\\tfod\\lib\\site-packages\\google\\protobuf\\internal\\__pycache__\\generator_test.cpython-310.pyc\n",
      "   from C:\\Users\\Ivan\\AppData\\Local\\Temp\\pip-uninstall-zwg1bq61\\internal\\__pycache__\\generator_test.cpython-310.pyc\n",
      "  Moving to d:\\programas\\osia\\tfod\\lib\\site-packages\\google\\protobuf\\internal\\__pycache__\\import_test.cpython-310.pyc\n",
      "   from C:\\Users\\Ivan\\AppData\\Local\\Temp\\pip-uninstall-zwg1bq61\\internal\\__pycache__\\import_test.cpython-310.pyc\n",
      "  Moving to d:\\programas\\osia\\tfod\\lib\\site-packages\\google\\protobuf\\internal\\__pycache__\\json_format_test.cpython-310.pyc\n",
      "   from C:\\Users\\Ivan\\AppData\\Local\\Temp\\pip-uninstall-zwg1bq61\\internal\\__pycache__\\json_format_test.cpython-310.pyc\n",
      "  Moving to d:\\programas\\osia\\tfod\\lib\\site-packages\\google\\protobuf\\internal\\__pycache__\\keywords_test.cpython-310.pyc\n",
      "   from C:\\Users\\Ivan\\AppData\\Local\\Temp\\pip-uninstall-zwg1bq61\\internal\\__pycache__\\keywords_test.cpython-310.pyc\n",
      "  Moving to d:\\programas\\osia\\tfod\\lib\\site-packages\\google\\protobuf\\internal\\__pycache__\\message_factory_test.cpython-310.pyc\n",
      "   from C:\\Users\\Ivan\\AppData\\Local\\Temp\\pip-uninstall-zwg1bq61\\internal\\__pycache__\\message_factory_test.cpython-310.pyc\n",
      "  Moving to d:\\programas\\osia\\tfod\\lib\\site-packages\\google\\protobuf\\internal\\__pycache__\\message_listener.cpython-310.pyc\n",
      "   from C:\\Users\\Ivan\\AppData\\Local\\Temp\\pip-uninstall-zwg1bq61\\internal\\__pycache__\\message_listener.cpython-310.pyc\n",
      "  Moving to d:\\programas\\osia\\tfod\\lib\\site-packages\\google\\protobuf\\internal\\__pycache__\\message_test.cpython-310.pyc\n",
      "   from C:\\Users\\Ivan\\AppData\\Local\\Temp\\pip-uninstall-zwg1bq61\\internal\\__pycache__\\message_test.cpython-310.pyc\n",
      "  Moving to d:\\programas\\osia\\tfod\\lib\\site-packages\\google\\protobuf\\internal\\__pycache__\\proto_builder_test.cpython-310.pyc\n",
      "   from C:\\Users\\Ivan\\AppData\\Local\\Temp\\pip-uninstall-zwg1bq61\\internal\\__pycache__\\proto_builder_test.cpython-310.pyc\n",
      "  Moving to d:\\programas\\osia\\tfod\\lib\\site-packages\\google\\protobuf\\internal\\__pycache__\\python_message.cpython-310.pyc\n",
      "   from C:\\Users\\Ivan\\AppData\\Local\\Temp\\pip-uninstall-zwg1bq61\\internal\\__pycache__\\python_message.cpython-310.pyc\n",
      "  Moving to d:\\programas\\osia\\tfod\\lib\\site-packages\\google\\protobuf\\internal\\__pycache__\\reflection_test.cpython-310.pyc\n",
      "   from C:\\Users\\Ivan\\AppData\\Local\\Temp\\pip-uninstall-zwg1bq61\\internal\\__pycache__\\reflection_test.cpython-310.pyc\n",
      "  Moving to d:\\programas\\osia\\tfod\\lib\\site-packages\\google\\protobuf\\internal\\__pycache__\\service_reflection_test.cpython-310.pyc\n",
      "   from C:\\Users\\Ivan\\AppData\\Local\\Temp\\pip-uninstall-zwg1bq61\\internal\\__pycache__\\service_reflection_test.cpython-310.pyc\n",
      "  Moving to d:\\programas\\osia\\tfod\\lib\\site-packages\\google\\protobuf\\internal\\__pycache__\\symbol_database_test.cpython-310.pyc\n",
      "   from C:\\Users\\Ivan\\AppData\\Local\\Temp\\pip-uninstall-zwg1bq61\\internal\\__pycache__\\symbol_database_test.cpython-310.pyc\n",
      "  Moving to d:\\programas\\osia\\tfod\\lib\\site-packages\\google\\protobuf\\internal\\__pycache__\\test_util.cpython-310.pyc\n",
      "   from C:\\Users\\Ivan\\AppData\\Local\\Temp\\pip-uninstall-zwg1bq61\\internal\\__pycache__\\test_util.cpython-310.pyc\n",
      "  Moving to d:\\programas\\osia\\tfod\\lib\\site-packages\\google\\protobuf\\internal\\__pycache__\\testing_refleaks.cpython-310.pyc\n",
      "   from C:\\Users\\Ivan\\AppData\\Local\\Temp\\pip-uninstall-zwg1bq61\\internal\\__pycache__\\testing_refleaks.cpython-310.pyc\n",
      "  Moving to d:\\programas\\osia\\tfod\\lib\\site-packages\\google\\protobuf\\internal\\__pycache__\\text_encoding_test.cpython-310.pyc\n",
      "   from C:\\Users\\Ivan\\AppData\\Local\\Temp\\pip-uninstall-zwg1bq61\\internal\\__pycache__\\text_encoding_test.cpython-310.pyc\n",
      "  Moving to d:\\programas\\osia\\tfod\\lib\\site-packages\\google\\protobuf\\internal\\__pycache__\\text_format_test.cpython-310.pyc\n",
      "   from C:\\Users\\Ivan\\AppData\\Local\\Temp\\pip-uninstall-zwg1bq61\\internal\\__pycache__\\text_format_test.cpython-310.pyc\n",
      "  Moving to d:\\programas\\osia\\tfod\\lib\\site-packages\\google\\protobuf\\internal\\__pycache__\\type_checkers.cpython-310.pyc\n",
      "   from C:\\Users\\Ivan\\AppData\\Local\\Temp\\pip-uninstall-zwg1bq61\\internal\\__pycache__\\type_checkers.cpython-310.pyc\n",
      "  Moving to d:\\programas\\osia\\tfod\\lib\\site-packages\\google\\protobuf\\internal\\__pycache__\\unknown_fields_test.cpython-310.pyc\n",
      "   from C:\\Users\\Ivan\\AppData\\Local\\Temp\\pip-uninstall-zwg1bq61\\internal\\__pycache__\\unknown_fields_test.cpython-310.pyc\n",
      "  Moving to d:\\programas\\osia\\tfod\\lib\\site-packages\\google\\protobuf\\internal\\__pycache__\\well_known_types.cpython-310.pyc\n",
      "   from C:\\Users\\Ivan\\AppData\\Local\\Temp\\pip-uninstall-zwg1bq61\\internal\\__pycache__\\well_known_types.cpython-310.pyc\n",
      "  Moving to d:\\programas\\osia\\tfod\\lib\\site-packages\\google\\protobuf\\internal\\__pycache__\\well_known_types_test.cpython-310.pyc\n",
      "   from C:\\Users\\Ivan\\AppData\\Local\\Temp\\pip-uninstall-zwg1bq61\\internal\\__pycache__\\well_known_types_test.cpython-310.pyc\n",
      "  Moving to d:\\programas\\osia\\tfod\\lib\\site-packages\\google\\protobuf\\internal\\__pycache__\\wire_format.cpython-310.pyc\n",
      "   from C:\\Users\\Ivan\\AppData\\Local\\Temp\\pip-uninstall-zwg1bq61\\internal\\__pycache__\\wire_format.cpython-310.pyc\n",
      "  Moving to d:\\programas\\osia\\tfod\\lib\\site-packages\\google\\protobuf\\internal\\__pycache__\\wire_format_test.cpython-310.pyc\n",
      "   from C:\\Users\\Ivan\\AppData\\Local\\Temp\\pip-uninstall-zwg1bq61\\internal\\__pycache__\\wire_format_test.cpython-310.pyc\n",
      "  Moving to d:\\programas\\osia\\tfod\\lib\\site-packages\\google\\protobuf\\internal\\_parameterized.py\n",
      "   from C:\\Users\\Ivan\\AppData\\Local\\Temp\\pip-uninstall-zwg1bq61\\internal\\_parameterized.py\n",
      "  Moving to d:\\programas\\osia\\tfod\\lib\\site-packages\\google\\protobuf\\internal\\api_implementation.py\n",
      "   from C:\\Users\\Ivan\\AppData\\Local\\Temp\\pip-uninstall-zwg1bq61\\internal\\api_implementation.py\n",
      "  Moving to d:\\programas\\osia\\tfod\\lib\\site-packages\\google\\protobuf\\internal\\builder.py\n",
      "   from C:\\Users\\Ivan\\AppData\\Local\\Temp\\pip-uninstall-zwg1bq61\\internal\\builder.py\n",
      "  Moving to d:\\programas\\osia\\tfod\\lib\\site-packages\\google\\protobuf\\internal\\containers.py\n",
      "   from C:\\Users\\Ivan\\AppData\\Local\\Temp\\pip-uninstall-zwg1bq61\\internal\\containers.py\n",
      "  Moving to d:\\programas\\osia\\tfod\\lib\\site-packages\\google\\protobuf\\internal\\decoder.py\n",
      "   from C:\\Users\\Ivan\\AppData\\Local\\Temp\\pip-uninstall-zwg1bq61\\internal\\decoder.py\n",
      "  Moving to d:\\programas\\osia\\tfod\\lib\\site-packages\\google\\protobuf\\internal\\descriptor_database_test.py\n",
      "   from C:\\Users\\Ivan\\AppData\\Local\\Temp\\pip-uninstall-zwg1bq61\\internal\\descriptor_database_test.py\n",
      "  Moving to d:\\programas\\osia\\tfod\\lib\\site-packages\\google\\protobuf\\internal\\descriptor_pool_test.py\n",
      "   from C:\\Users\\Ivan\\AppData\\Local\\Temp\\pip-uninstall-zwg1bq61\\internal\\descriptor_pool_test.py\n",
      "  Moving to d:\\programas\\osia\\tfod\\lib\\site-packages\\google\\protobuf\\internal\\descriptor_test.py\n",
      "   from C:\\Users\\Ivan\\AppData\\Local\\Temp\\pip-uninstall-zwg1bq61\\internal\\descriptor_test.py\n",
      "  Moving to d:\\programas\\osia\\tfod\\lib\\site-packages\\google\\protobuf\\internal\\encoder.py\n",
      "   from C:\\Users\\Ivan\\AppData\\Local\\Temp\\pip-uninstall-zwg1bq61\\internal\\encoder.py\n",
      "  Moving to d:\\programas\\osia\\tfod\\lib\\site-packages\\google\\protobuf\\internal\\enum_type_wrapper.py\n",
      "   from C:\\Users\\Ivan\\AppData\\Local\\Temp\\pip-uninstall-zwg1bq61\\internal\\enum_type_wrapper.py\n",
      "  Moving to d:\\programas\\osia\\tfod\\lib\\site-packages\\google\\protobuf\\internal\\extension_dict.py\n",
      "   from C:\\Users\\Ivan\\AppData\\Local\\Temp\\pip-uninstall-zwg1bq61\\internal\\extension_dict.py\n",
      "  Moving to d:\\programas\\osia\\tfod\\lib\\site-packages\\google\\protobuf\\internal\\generator_test.py\n",
      "   from C:\\Users\\Ivan\\AppData\\Local\\Temp\\pip-uninstall-zwg1bq61\\internal\\generator_test.py\n",
      "  Moving to d:\\programas\\osia\\tfod\\lib\\site-packages\\google\\protobuf\\internal\\import_test.py\n",
      "   from C:\\Users\\Ivan\\AppData\\Local\\Temp\\pip-uninstall-zwg1bq61\\internal\\import_test.py\n",
      "  Moving to d:\\programas\\osia\\tfod\\lib\\site-packages\\google\\protobuf\\internal\\import_test_package\\\n",
      "   from D:\\Programas\\OSIA\\tfod\\Lib\\site-packages\\google\\protobuf\\internal\\~mport_test_package\n",
      "  Moving to d:\\programas\\osia\\tfod\\lib\\site-packages\\google\\protobuf\\internal\\json_format_test.py\n",
      "   from C:\\Users\\Ivan\\AppData\\Local\\Temp\\pip-uninstall-zwg1bq61\\internal\\json_format_test.py\n",
      "  Moving to d:\\programas\\osia\\tfod\\lib\\site-packages\\google\\protobuf\\internal\\keywords_test.py\n",
      "   from C:\\Users\\Ivan\\AppData\\Local\\Temp\\pip-uninstall-zwg1bq61\\internal\\keywords_test.py\n",
      "  Moving to d:\\programas\\osia\\tfod\\lib\\site-packages\\google\\protobuf\\internal\\message_factory_test.py\n",
      "   from C:\\Users\\Ivan\\AppData\\Local\\Temp\\pip-uninstall-zwg1bq61\\internal\\message_factory_test.py\n",
      "  Moving to d:\\programas\\osia\\tfod\\lib\\site-packages\\google\\protobuf\\internal\\message_listener.py\n",
      "   from C:\\Users\\Ivan\\AppData\\Local\\Temp\\pip-uninstall-zwg1bq61\\internal\\message_listener.py\n",
      "  Moving to d:\\programas\\osia\\tfod\\lib\\site-packages\\google\\protobuf\\internal\\message_test.py\n",
      "   from C:\\Users\\Ivan\\AppData\\Local\\Temp\\pip-uninstall-zwg1bq61\\internal\\message_test.py\n",
      "  Moving to d:\\programas\\osia\\tfod\\lib\\site-packages\\google\\protobuf\\internal\\proto_builder_test.py\n",
      "   from C:\\Users\\Ivan\\AppData\\Local\\Temp\\pip-uninstall-zwg1bq61\\internal\\proto_builder_test.py\n",
      "  Moving to d:\\programas\\osia\\tfod\\lib\\site-packages\\google\\protobuf\\internal\\python_message.py\n",
      "   from C:\\Users\\Ivan\\AppData\\Local\\Temp\\pip-uninstall-zwg1bq61\\internal\\python_message.py\n",
      "  Moving to d:\\programas\\osia\\tfod\\lib\\site-packages\\google\\protobuf\\internal\\reflection_test.py\n",
      "   from C:\\Users\\Ivan\\AppData\\Local\\Temp\\pip-uninstall-zwg1bq61\\internal\\reflection_test.py\n",
      "  Moving to d:\\programas\\osia\\tfod\\lib\\site-packages\\google\\protobuf\\internal\\service_reflection_test.py\n",
      "   from C:\\Users\\Ivan\\AppData\\Local\\Temp\\pip-uninstall-zwg1bq61\\internal\\service_reflection_test.py\n",
      "  Moving to d:\\programas\\osia\\tfod\\lib\\site-packages\\google\\protobuf\\internal\\symbol_database_test.py\n",
      "   from C:\\Users\\Ivan\\AppData\\Local\\Temp\\pip-uninstall-zwg1bq61\\internal\\symbol_database_test.py\n",
      "  Moving to d:\\programas\\osia\\tfod\\lib\\site-packages\\google\\protobuf\\internal\\test_util.py\n",
      "   from C:\\Users\\Ivan\\AppData\\Local\\Temp\\pip-uninstall-zwg1bq61\\internal\\test_util.py\n",
      "  Moving to d:\\programas\\osia\\tfod\\lib\\site-packages\\google\\protobuf\\internal\\testing_refleaks.py\n",
      "   from C:\\Users\\Ivan\\AppData\\Local\\Temp\\pip-uninstall-zwg1bq61\\internal\\testing_refleaks.py\n",
      "  Moving to d:\\programas\\osia\\tfod\\lib\\site-packages\\google\\protobuf\\internal\\text_encoding_test.py\n",
      "   from C:\\Users\\Ivan\\AppData\\Local\\Temp\\pip-uninstall-zwg1bq61\\internal\\text_encoding_test.py\n",
      "  Moving to d:\\programas\\osia\\tfod\\lib\\site-packages\\google\\protobuf\\internal\\text_format_test.py\n",
      "   from C:\\Users\\Ivan\\AppData\\Local\\Temp\\pip-uninstall-zwg1bq61\\internal\\text_format_test.py\n",
      "  Moving to d:\\programas\\osia\\tfod\\lib\\site-packages\\google\\protobuf\\internal\\type_checkers.py\n",
      "   from C:\\Users\\Ivan\\AppData\\Local\\Temp\\pip-uninstall-zwg1bq61\\internal\\type_checkers.py\n",
      "  Moving to d:\\programas\\osia\\tfod\\lib\\site-packages\\google\\protobuf\\internal\\unknown_fields_test.py\n",
      "   from C:\\Users\\Ivan\\AppData\\Local\\Temp\\pip-uninstall-zwg1bq61\\internal\\unknown_fields_test.py\n",
      "  Moving to d:\\programas\\osia\\tfod\\lib\\site-packages\\google\\protobuf\\internal\\well_known_types.py\n",
      "   from C:\\Users\\Ivan\\AppData\\Local\\Temp\\pip-uninstall-zwg1bq61\\internal\\well_known_types.py\n",
      "  Moving to d:\\programas\\osia\\tfod\\lib\\site-packages\\google\\protobuf\\internal\\well_known_types_test.py\n",
      "   from C:\\Users\\Ivan\\AppData\\Local\\Temp\\pip-uninstall-zwg1bq61\\internal\\well_known_types_test.py\n",
      "  Moving to d:\\programas\\osia\\tfod\\lib\\site-packages\\google\\protobuf\\internal\\wire_format.py\n",
      "   from C:\\Users\\Ivan\\AppData\\Local\\Temp\\pip-uninstall-zwg1bq61\\internal\\wire_format.py\n",
      "  Moving to d:\\programas\\osia\\tfod\\lib\\site-packages\\google\\protobuf\\internal\\wire_format_test.py\n",
      "   from C:\\Users\\Ivan\\AppData\\Local\\Temp\\pip-uninstall-zwg1bq61\\internal\\wire_format_test.py\n",
      "  Moving to d:\\programas\\osia\\tfod\\lib\\site-packages\\google\\protobuf\\json_format.py\n",
      "   from C:\\Users\\Ivan\\AppData\\Local\\Temp\\pip-uninstall-zwg1bq61\\json_format.py\n",
      "  Moving to d:\\programas\\osia\\tfod\\lib\\site-packages\\google\\protobuf\\message.py\n",
      "   from C:\\Users\\Ivan\\AppData\\Local\\Temp\\pip-uninstall-zwg1bq61\\message.py\n",
      "  Moving to d:\\programas\\osia\\tfod\\lib\\site-packages\\google\\protobuf\\message_factory.py\n",
      "   from C:\\Users\\Ivan\\AppData\\Local\\Temp\\pip-uninstall-zwg1bq61\\message_factory.py\n",
      "  Moving to d:\\programas\\osia\\tfod\\lib\\site-packages\\google\\protobuf\\proto_builder.py\n",
      "   from C:\\Users\\Ivan\\AppData\\Local\\Temp\\pip-uninstall-zwg1bq61\\proto_builder.py\n",
      "  Moving to d:\\programas\\osia\\tfod\\lib\\site-packages\\google\\protobuf\\pyext\\__init__.py\n",
      "   from C:\\Users\\Ivan\\AppData\\Local\\Temp\\pip-uninstall-zwg1bq61\\pyext\\__init__.py\n",
      "  Moving to d:\\programas\\osia\\tfod\\lib\\site-packages\\google\\protobuf\\pyext\\__pycache__\\__init__.cpython-310.pyc\n",
      "   from C:\\Users\\Ivan\\AppData\\Local\\Temp\\pip-uninstall-zwg1bq61\\pyext\\__pycache__\\__init__.cpython-310.pyc\n",
      "  Moving to d:\\programas\\osia\\tfod\\lib\\site-packages\\google\\protobuf\\pyext\\__pycache__\\cpp_message.cpython-310.pyc\n",
      "   from C:\\Users\\Ivan\\AppData\\Local\\Temp\\pip-uninstall-zwg1bq61\\pyext\\__pycache__\\cpp_message.cpython-310.pyc\n",
      "  Moving to d:\\programas\\osia\\tfod\\lib\\site-packages\\google\\protobuf\\pyext\\cpp_message.py\n",
      "   from C:\\Users\\Ivan\\AppData\\Local\\Temp\\pip-uninstall-zwg1bq61\\pyext\\cpp_message.py\n",
      "  Moving to d:\\programas\\osia\\tfod\\lib\\site-packages\\google\\protobuf\\reflection.py\n",
      "   from C:\\Users\\Ivan\\AppData\\Local\\Temp\\pip-uninstall-zwg1bq61\\reflection.py\n",
      "  Moving to d:\\programas\\osia\\tfod\\lib\\site-packages\\google\\protobuf\\service.py\n",
      "   from C:\\Users\\Ivan\\AppData\\Local\\Temp\\pip-uninstall-zwg1bq61\\service.py\n",
      "  Moving to d:\\programas\\osia\\tfod\\lib\\site-packages\\google\\protobuf\\service_reflection.py\n",
      "   from C:\\Users\\Ivan\\AppData\\Local\\Temp\\pip-uninstall-zwg1bq61\\service_reflection.py\n",
      "  Moving to d:\\programas\\osia\\tfod\\lib\\site-packages\\google\\protobuf\\source_context_pb2.py\n",
      "   from C:\\Users\\Ivan\\AppData\\Local\\Temp\\pip-uninstall-zwg1bq61\\source_context_pb2.py\n",
      "  Moving to d:\\programas\\osia\\tfod\\lib\\site-packages\\google\\protobuf\\struct_pb2.py\n",
      "   from C:\\Users\\Ivan\\AppData\\Local\\Temp\\pip-uninstall-zwg1bq61\\struct_pb2.py\n",
      "  Moving to d:\\programas\\osia\\tfod\\lib\\site-packages\\google\\protobuf\\symbol_database.py\n",
      "   from C:\\Users\\Ivan\\AppData\\Local\\Temp\\pip-uninstall-zwg1bq61\\symbol_database.py\n",
      "  Moving to d:\\programas\\osia\\tfod\\lib\\site-packages\\google\\protobuf\\text_encoding.py\n",
      "   from C:\\Users\\Ivan\\AppData\\Local\\Temp\\pip-uninstall-zwg1bq61\\text_encoding.py\n",
      "  Moving to d:\\programas\\osia\\tfod\\lib\\site-packages\\google\\protobuf\\text_format.py\n",
      "   from C:\\Users\\Ivan\\AppData\\Local\\Temp\\pip-uninstall-zwg1bq61\\text_format.py\n",
      "  Moving to d:\\programas\\osia\\tfod\\lib\\site-packages\\google\\protobuf\\timestamp_pb2.py\n",
      "   from C:\\Users\\Ivan\\AppData\\Local\\Temp\\pip-uninstall-zwg1bq61\\timestamp_pb2.py\n",
      "  Moving to d:\\programas\\osia\\tfod\\lib\\site-packages\\google\\protobuf\\type_pb2.py\n",
      "   from C:\\Users\\Ivan\\AppData\\Local\\Temp\\pip-uninstall-zwg1bq61\\type_pb2.py\n",
      "  Moving to d:\\programas\\osia\\tfod\\lib\\site-packages\\google\\protobuf\\unknown_fields.py\n",
      "   from C:\\Users\\Ivan\\AppData\\Local\\Temp\\pip-uninstall-zwg1bq61\\unknown_fields.py\n",
      "  Moving to d:\\programas\\osia\\tfod\\lib\\site-packages\\google\\protobuf\\util\\__init__.py\n",
      "   from C:\\Users\\Ivan\\AppData\\Local\\Temp\\pip-uninstall-zwg1bq61\\util\\__init__.py\n",
      "  Moving to d:\\programas\\osia\\tfod\\lib\\site-packages\\google\\protobuf\\util\\__pycache__\\__init__.cpython-310.pyc\n",
      "   from C:\\Users\\Ivan\\AppData\\Local\\Temp\\pip-uninstall-zwg1bq61\\util\\__pycache__\\__init__.cpython-310.pyc\n",
      "  Moving to d:\\programas\\osia\\tfod\\lib\\site-packages\\google\\protobuf\\wrappers_pb2.py\n",
      "   from C:\\Users\\Ivan\\AppData\\Local\\Temp\\pip-uninstall-zwg1bq61\\wrappers_pb2.py\n",
      "  Moving to d:\\programas\\osia\\tfod\\lib\\site-packages\\protobuf-4.21.7.dist-info\\\n",
      "   from D:\\Programas\\OSIA\\tfod\\Lib\\site-packages\\~rotobuf-4.21.7.dist-info\n"
     ]
    },
    {
     "name": "stderr",
     "output_type": "stream",
     "text": [
      "ERROR: Could not install packages due to an OSError: [WinError 5] Acceso denegado: 'D:\\\\Programas\\\\OSIA\\\\tfod\\\\Lib\\\\site-packages\\\\google\\\\protobuf\\\\internal\\\\_api_implementation.cp310-win_amd64.pyd'\n",
      "Check the permissions.\n",
      "\n"
     ]
    }
   ],
   "source": [
    "!pip install tensorflowjs"
   ]
  },
  {
   "cell_type": "code",
   "execution_count": 31,
   "metadata": {
    "id": "0oxbVynHpfDK"
   },
   "outputs": [],
   "source": [
    "command = \"tensorflowjs_converter --input_format=tf_saved_model --output_node_names='detection_boxes,detection_classes,detection_features,detection_multiclass_scores,detection_scores,num_detections,raw_detection_boxes,raw_detection_scores' --output_format=tfjs_graph_model --signature_name=serving_default {} {}\".format(os.path.join(paths['OUTPUT_PATH'], 'saved_model'), paths['TFJS_PATH'])"
   ]
  },
  {
   "cell_type": "code",
   "execution_count": 32,
   "metadata": {
    "colab": {
     "base_uri": "https://localhost:8080/"
    },
    "id": "DB2AGNmJpfDK",
    "outputId": "fbc9f747-f511-47e8-df8f-5ea65cef0374"
   },
   "outputs": [
    {
     "name": "stdout",
     "output_type": "stream",
     "text": [
      "tensorflowjs_converter --input_format=tf_saved_model --output_node_names='detection_boxes,detection_classes,detection_features,detection_multiclass_scores,detection_scores,num_detections,raw_detection_boxes,raw_detection_scores' --output_format=tfjs_graph_model --signature_name=serving_default Tensorflow\\workspace\\models\\my_ssd_mobnet\\export\\saved_model Tensorflow\\workspace\\models\\my_ssd_mobnet\\tfjsexport\n"
     ]
    }
   ],
   "source": [
    "print(command)"
   ]
  },
  {
   "cell_type": "code",
   "execution_count": 33,
   "metadata": {
    "colab": {
     "base_uri": "https://localhost:8080/"
    },
    "id": "K7rfT4-hpfDK",
    "outputId": "532707fd-6feb-4bc6-84a3-325b5d16303c"
   },
   "outputs": [
    {
     "name": "stderr",
     "output_type": "stream",
     "text": [
      "\"tensorflowjs_converter\" no se reconoce como un comando interno o externo,\n",
      "programa o archivo por lotes ejecutable.\n"
     ]
    }
   ],
   "source": [
    "!{command}"
   ]
  },
  {
   "cell_type": "code",
   "execution_count": 34,
   "metadata": {
    "id": "o8_hm-itpfDK"
   },
   "outputs": [],
   "source": [
    "# Test Code: https://github.com/nicknochnack/RealTimeSignLanguageDetectionwithTFJS"
   ]
  },
  {
   "cell_type": "markdown",
   "metadata": {
    "id": "VtUw73FHpfDK"
   },
   "source": [
    "# 12. Conversion to TFLite"
   ]
  },
  {
   "cell_type": "code",
   "execution_count": 35,
   "metadata": {
    "id": "XviMtewLpfDK"
   },
   "outputs": [],
   "source": [
    "TFLITE_SCRIPT = os.path.join(paths['APIMODEL_PATH'], 'research', 'object_detection', 'export_tflite_graph_tf2.py ')"
   ]
  },
  {
   "cell_type": "code",
   "execution_count": 36,
   "metadata": {
    "id": "us86cjC4pfDL"
   },
   "outputs": [],
   "source": [
    "command = \"python {} --pipeline_config_path={} --trained_checkpoint_dir={} --output_directory={}\".format(TFLITE_SCRIPT ,files['PIPELINE_CONFIG'], paths['CHECKPOINT_PATH'], paths['TFLITE_PATH'])"
   ]
  },
  {
   "cell_type": "code",
   "execution_count": 37,
   "metadata": {
    "colab": {
     "base_uri": "https://localhost:8080/"
    },
    "id": "n1r5YO3rpfDL",
    "outputId": "5fcdf7a4-eee2-4365-f1ca-1751968379ea"
   },
   "outputs": [
    {
     "name": "stdout",
     "output_type": "stream",
     "text": [
      "python Tensorflow\\models\\research\\object_detection\\export_tflite_graph_tf2.py  --pipeline_config_path=Tensorflow\\workspace\\models\\my_ssd_mobnet\\pipeline.config --trained_checkpoint_dir=Tensorflow\\workspace\\models\\my_ssd_mobnet --output_directory=Tensorflow\\workspace\\models\\my_ssd_mobnet\\tfliteexport\n"
     ]
    }
   ],
   "source": [
    "print(command)"
   ]
  },
  {
   "cell_type": "code",
   "execution_count": 38,
   "metadata": {
    "colab": {
     "base_uri": "https://localhost:8080/"
    },
    "id": "I-xWpHN8pfDL",
    "outputId": "7f6bacd8-d077-43b5-c131-5b081fba24a4"
   },
   "outputs": [
    {
     "name": "stderr",
     "output_type": "stream",
     "text": [
      "2022-10-05 15:14:10.257026: W tensorflow/stream_executor/platform/default/dso_loader.cc:64] Could not load dynamic library 'cudart64_110.dll'; dlerror: cudart64_110.dll not found\n",
      "2022-10-05 15:14:10.257060: I tensorflow/stream_executor/cuda/cudart_stub.cc:29] Ignore above cudart dlerror if you do not have a GPU set up on your machine.\n",
      "2022-10-05 15:14:17.616891: W tensorflow/stream_executor/platform/default/dso_loader.cc:64] Could not load dynamic library 'cudart64_110.dll'; dlerror: cudart64_110.dll not found\n",
      "2022-10-05 15:14:17.617115: W tensorflow/stream_executor/platform/default/dso_loader.cc:64] Could not load dynamic library 'cublas64_11.dll'; dlerror: cublas64_11.dll not found\n",
      "2022-10-05 15:14:17.617327: W tensorflow/stream_executor/platform/default/dso_loader.cc:64] Could not load dynamic library 'cublasLt64_11.dll'; dlerror: cublasLt64_11.dll not found\n",
      "2022-10-05 15:14:17.617529: W tensorflow/stream_executor/platform/default/dso_loader.cc:64] Could not load dynamic library 'cufft64_10.dll'; dlerror: cufft64_10.dll not found\n",
      "2022-10-05 15:14:17.617727: W tensorflow/stream_executor/platform/default/dso_loader.cc:64] Could not load dynamic library 'curand64_10.dll'; dlerror: curand64_10.dll not found\n",
      "2022-10-05 15:14:17.617928: W tensorflow/stream_executor/platform/default/dso_loader.cc:64] Could not load dynamic library 'cusolver64_11.dll'; dlerror: cusolver64_11.dll not found\n",
      "2022-10-05 15:14:17.618125: W tensorflow/stream_executor/platform/default/dso_loader.cc:64] Could not load dynamic library 'cusparse64_11.dll'; dlerror: cusparse64_11.dll not found\n",
      "2022-10-05 15:14:17.618366: W tensorflow/stream_executor/platform/default/dso_loader.cc:64] Could not load dynamic library 'cudnn64_8.dll'; dlerror: cudnn64_8.dll not found\n",
      "2022-10-05 15:14:17.618395: W tensorflow/core/common_runtime/gpu/gpu_device.cc:1850] Cannot dlopen some GPU libraries. Please make sure the missing libraries mentioned above are installed properly if you would like to use GPU. Follow the guide at https://www.tensorflow.org/install/gpu for how to download and setup the required libraries for your platform.\n",
      "Skipping registering GPU devices...\n",
      "2022-10-05 15:14:17.627650: I tensorflow/core/platform/cpu_feature_guard.cc:193] This TensorFlow binary is optimized with oneAPI Deep Neural Network Library (oneDNN) to use the following CPU instructions in performance-critical operations:  AVX AVX2\n",
      "To enable them in other operations, rebuild TensorFlow with the appropriate compiler flags.\n",
      "2022-10-05 15:14:24.170396: I tensorflow/compiler/mlir/mlir_graph_optimization_pass.cc:354] MLIR V1 optimization pass is not enabled\n",
      "WARNING:tensorflow:Skipping full serialization of Keras layer <object_detection.meta_architectures.ssd_meta_arch.SSDMetaArch object at 0x000001A769195390>, because it is not built.\n",
      "W1005 15:14:29.133098 17536 save_impl.py:71] Skipping full serialization of Keras layer <object_detection.meta_architectures.ssd_meta_arch.SSDMetaArch object at 0x000001A769195390>, because it is not built.\n",
      "WARNING:tensorflow:Skipping full serialization of Keras layer <keras.layers.convolutional.separable_conv2d.SeparableConv2D object at 0x000001A769196380>, because it is not built.\n",
      "W1005 15:14:29.402091 17536 save_impl.py:71] Skipping full serialization of Keras layer <keras.layers.convolutional.separable_conv2d.SeparableConv2D object at 0x000001A769196380>, because it is not built.\n",
      "WARNING:tensorflow:Skipping full serialization of Keras layer <object_detection.core.freezable_batch_norm.FreezableBatchNorm object at 0x000001A77204A530>, because it is not built.\n",
      "W1005 15:14:29.402091 17536 save_impl.py:71] Skipping full serialization of Keras layer <object_detection.core.freezable_batch_norm.FreezableBatchNorm object at 0x000001A77204A530>, because it is not built.\n",
      "WARNING:tensorflow:Skipping full serialization of Keras layer <keras.layers.core.lambda_layer.Lambda object at 0x000001A772048CA0>, because it is not built.\n",
      "W1005 15:14:29.402091 17536 save_impl.py:71] Skipping full serialization of Keras layer <keras.layers.core.lambda_layer.Lambda object at 0x000001A772048CA0>, because it is not built.\n",
      "WARNING:tensorflow:Skipping full serialization of Keras layer <keras.layers.convolutional.separable_conv2d.SeparableConv2D object at 0x000001A772048550>, because it is not built.\n",
      "W1005 15:14:29.402091 17536 save_impl.py:71] Skipping full serialization of Keras layer <keras.layers.convolutional.separable_conv2d.SeparableConv2D object at 0x000001A772048550>, because it is not built.\n",
      "WARNING:tensorflow:Skipping full serialization of Keras layer <object_detection.core.freezable_batch_norm.FreezableBatchNorm object at 0x000001A772048490>, because it is not built.\n",
      "W1005 15:14:29.402091 17536 save_impl.py:71] Skipping full serialization of Keras layer <object_detection.core.freezable_batch_norm.FreezableBatchNorm object at 0x000001A772048490>, because it is not built.\n",
      "WARNING:tensorflow:Skipping full serialization of Keras layer <keras.layers.core.lambda_layer.Lambda object at 0x000001A772048730>, because it is not built.\n",
      "W1005 15:14:29.402091 17536 save_impl.py:71] Skipping full serialization of Keras layer <keras.layers.core.lambda_layer.Lambda object at 0x000001A772048730>, because it is not built.\n",
      "WARNING:tensorflow:Skipping full serialization of Keras layer <keras.layers.convolutional.separable_conv2d.SeparableConv2D object at 0x000001A772049720>, because it is not built.\n",
      "W1005 15:14:29.402091 17536 save_impl.py:71] Skipping full serialization of Keras layer <keras.layers.convolutional.separable_conv2d.SeparableConv2D object at 0x000001A772049720>, because it is not built.\n",
      "WARNING:tensorflow:Skipping full serialization of Keras layer <object_detection.core.freezable_batch_norm.FreezableBatchNorm object at 0x000001A772048A00>, because it is not built.\n",
      "W1005 15:14:29.402091 17536 save_impl.py:71] Skipping full serialization of Keras layer <object_detection.core.freezable_batch_norm.FreezableBatchNorm object at 0x000001A772048A00>, because it is not built.\n",
      "WARNING:tensorflow:Skipping full serialization of Keras layer <keras.layers.core.lambda_layer.Lambda object at 0x000001A772048BB0>, because it is not built.\n",
      "W1005 15:14:29.402091 17536 save_impl.py:71] Skipping full serialization of Keras layer <keras.layers.core.lambda_layer.Lambda object at 0x000001A772048BB0>, because it is not built.\n",
      "WARNING:tensorflow:Skipping full serialization of Keras layer <keras.layers.convolutional.separable_conv2d.SeparableConv2D object at 0x000001A772049840>, because it is not built.\n",
      "W1005 15:14:29.402091 17536 save_impl.py:71] Skipping full serialization of Keras layer <keras.layers.convolutional.separable_conv2d.SeparableConv2D object at 0x000001A772049840>, because it is not built.\n",
      "WARNING:tensorflow:Skipping full serialization of Keras layer <object_detection.core.freezable_batch_norm.FreezableBatchNorm object at 0x000001A772049780>, because it is not built.\n",
      "W1005 15:14:29.402091 17536 save_impl.py:71] Skipping full serialization of Keras layer <object_detection.core.freezable_batch_norm.FreezableBatchNorm object at 0x000001A772049780>, because it is not built.\n",
      "WARNING:tensorflow:Skipping full serialization of Keras layer <keras.layers.core.lambda_layer.Lambda object at 0x000001A772048880>, because it is not built.\n",
      "W1005 15:14:29.403091 17536 save_impl.py:71] Skipping full serialization of Keras layer <keras.layers.core.lambda_layer.Lambda object at 0x000001A772048880>, because it is not built.\n",
      "WARNING:tensorflow:Skipping full serialization of Keras layer <object_detection.core.freezable_batch_norm.FreezableBatchNorm object at 0x000001A7691966B0>, because it is not built.\n",
      "W1005 15:14:29.403091 17536 save_impl.py:71] Skipping full serialization of Keras layer <object_detection.core.freezable_batch_norm.FreezableBatchNorm object at 0x000001A7691966B0>, because it is not built.\n",
      "WARNING:tensorflow:Skipping full serialization of Keras layer <keras.layers.core.lambda_layer.Lambda object at 0x000001A76F9F9180>, because it is not built.\n",
      "W1005 15:14:29.403091 17536 save_impl.py:71] Skipping full serialization of Keras layer <keras.layers.core.lambda_layer.Lambda object at 0x000001A76F9F9180>, because it is not built.\n",
      "WARNING:tensorflow:Skipping full serialization of Keras layer <object_detection.core.freezable_batch_norm.FreezableBatchNorm object at 0x000001A77216C1F0>, because it is not built.\n",
      "W1005 15:14:29.403091 17536 save_impl.py:71] Skipping full serialization of Keras layer <object_detection.core.freezable_batch_norm.FreezableBatchNorm object at 0x000001A77216C1F0>, because it is not built.\n",
      "WARNING:tensorflow:Skipping full serialization of Keras layer <keras.layers.core.lambda_layer.Lambda object at 0x000001A77216C2E0>, because it is not built.\n",
      "W1005 15:14:29.403091 17536 save_impl.py:71] Skipping full serialization of Keras layer <keras.layers.core.lambda_layer.Lambda object at 0x000001A77216C2E0>, because it is not built.\n",
      "WARNING:tensorflow:Skipping full serialization of Keras layer <object_detection.core.freezable_batch_norm.FreezableBatchNorm object at 0x000001A77216CCA0>, because it is not built.\n",
      "W1005 15:14:29.403091 17536 save_impl.py:71] Skipping full serialization of Keras layer <object_detection.core.freezable_batch_norm.FreezableBatchNorm object at 0x000001A77216CCA0>, because it is not built.\n",
      "WARNING:tensorflow:Skipping full serialization of Keras layer <keras.layers.core.lambda_layer.Lambda object at 0x000001A77216CD60>, because it is not built.\n",
      "W1005 15:14:29.403091 17536 save_impl.py:71] Skipping full serialization of Keras layer <keras.layers.core.lambda_layer.Lambda object at 0x000001A77216CD60>, because it is not built.\n",
      "WARNING:tensorflow:Skipping full serialization of Keras layer <object_detection.core.freezable_batch_norm.FreezableBatchNorm object at 0x000001A77216CF40>, because it is not built.\n",
      "W1005 15:14:29.403091 17536 save_impl.py:71] Skipping full serialization of Keras layer <object_detection.core.freezable_batch_norm.FreezableBatchNorm object at 0x000001A77216CF40>, because it is not built.\n",
      "WARNING:tensorflow:Skipping full serialization of Keras layer <keras.layers.core.lambda_layer.Lambda object at 0x000001A77216C580>, because it is not built.\n",
      "W1005 15:14:29.403091 17536 save_impl.py:71] Skipping full serialization of Keras layer <keras.layers.core.lambda_layer.Lambda object at 0x000001A77216C580>, because it is not built.\n",
      "WARNING:tensorflow:Skipping full serialization of Keras layer <object_detection.core.freezable_batch_norm.FreezableBatchNorm object at 0x000001A7691966E0>, because it is not built.\n",
      "W1005 15:14:29.403091 17536 save_impl.py:71] Skipping full serialization of Keras layer <object_detection.core.freezable_batch_norm.FreezableBatchNorm object at 0x000001A7691966E0>, because it is not built.\n",
      "WARNING:tensorflow:Skipping full serialization of Keras layer <keras.layers.core.lambda_layer.Lambda object at 0x000001A77216F280>, because it is not built.\n",
      "W1005 15:14:29.403091 17536 save_impl.py:71] Skipping full serialization of Keras layer <keras.layers.core.lambda_layer.Lambda object at 0x000001A77216F280>, because it is not built.\n",
      "WARNING:tensorflow:Skipping full serialization of Keras layer <object_detection.core.freezable_batch_norm.FreezableBatchNorm object at 0x000001A77216F490>, because it is not built.\n",
      "W1005 15:14:29.403091 17536 save_impl.py:71] Skipping full serialization of Keras layer <object_detection.core.freezable_batch_norm.FreezableBatchNorm object at 0x000001A77216F490>, because it is not built.\n",
      "WARNING:tensorflow:Skipping full serialization of Keras layer <keras.layers.core.lambda_layer.Lambda object at 0x000001A77216FBE0>, because it is not built.\n",
      "W1005 15:14:29.403091 17536 save_impl.py:71] Skipping full serialization of Keras layer <keras.layers.core.lambda_layer.Lambda object at 0x000001A77216FBE0>, because it is not built.\n",
      "WARNING:tensorflow:Skipping full serialization of Keras layer <object_detection.core.freezable_batch_norm.FreezableBatchNorm object at 0x000001A77216FD60>, because it is not built.\n",
      "W1005 15:14:29.403091 17536 save_impl.py:71] Skipping full serialization of Keras layer <object_detection.core.freezable_batch_norm.FreezableBatchNorm object at 0x000001A77216FD60>, because it is not built.\n",
      "WARNING:tensorflow:Skipping full serialization of Keras layer <keras.layers.core.lambda_layer.Lambda object at 0x000001A77216FEB0>, because it is not built.\n",
      "W1005 15:14:29.403091 17536 save_impl.py:71] Skipping full serialization of Keras layer <keras.layers.core.lambda_layer.Lambda object at 0x000001A77216FEB0>, because it is not built.\n",
      "WARNING:tensorflow:Skipping full serialization of Keras layer <object_detection.core.freezable_batch_norm.FreezableBatchNorm object at 0x000001A77216CF10>, because it is not built.\n",
      "W1005 15:14:29.403091 17536 save_impl.py:71] Skipping full serialization of Keras layer <object_detection.core.freezable_batch_norm.FreezableBatchNorm object at 0x000001A77216CF10>, because it is not built.\n",
      "WARNING:tensorflow:Skipping full serialization of Keras layer <keras.layers.core.lambda_layer.Lambda object at 0x000001A77216FAC0>, because it is not built.\n",
      "W1005 15:14:29.403091 17536 save_impl.py:71] Skipping full serialization of Keras layer <keras.layers.core.lambda_layer.Lambda object at 0x000001A77216FAC0>, because it is not built.\n",
      "WARNING:tensorflow:Skipping full serialization of Keras layer <object_detection.core.freezable_batch_norm.FreezableBatchNorm object at 0x000001A769196710>, because it is not built.\n",
      "W1005 15:14:29.404091 17536 save_impl.py:71] Skipping full serialization of Keras layer <object_detection.core.freezable_batch_norm.FreezableBatchNorm object at 0x000001A769196710>, because it is not built.\n",
      "WARNING:tensorflow:Skipping full serialization of Keras layer <keras.layers.core.lambda_layer.Lambda object at 0x000001A76FF8AB60>, because it is not built.\n",
      "W1005 15:14:29.404091 17536 save_impl.py:71] Skipping full serialization of Keras layer <keras.layers.core.lambda_layer.Lambda object at 0x000001A76FF8AB60>, because it is not built.\n",
      "WARNING:tensorflow:Skipping full serialization of Keras layer <object_detection.core.freezable_batch_norm.FreezableBatchNorm object at 0x000001A76F9A3280>, because it is not built.\n",
      "W1005 15:14:29.404091 17536 save_impl.py:71] Skipping full serialization of Keras layer <object_detection.core.freezable_batch_norm.FreezableBatchNorm object at 0x000001A76F9A3280>, because it is not built.\n",
      "WARNING:tensorflow:Skipping full serialization of Keras layer <keras.layers.core.lambda_layer.Lambda object at 0x000001A76F9A2680>, because it is not built.\n",
      "W1005 15:14:29.404091 17536 save_impl.py:71] Skipping full serialization of Keras layer <keras.layers.core.lambda_layer.Lambda object at 0x000001A76F9A2680>, because it is not built.\n",
      "WARNING:tensorflow:Skipping full serialization of Keras layer <object_detection.core.freezable_batch_norm.FreezableBatchNorm object at 0x000001A76FECDFC0>, because it is not built.\n",
      "W1005 15:14:29.404091 17536 save_impl.py:71] Skipping full serialization of Keras layer <object_detection.core.freezable_batch_norm.FreezableBatchNorm object at 0x000001A76FECDFC0>, because it is not built.\n",
      "WARNING:tensorflow:Skipping full serialization of Keras layer <keras.layers.core.lambda_layer.Lambda object at 0x000001A76FECE530>, because it is not built.\n",
      "W1005 15:14:29.404091 17536 save_impl.py:71] Skipping full serialization of Keras layer <keras.layers.core.lambda_layer.Lambda object at 0x000001A76FECE530>, because it is not built.\n",
      "WARNING:tensorflow:Skipping full serialization of Keras layer <object_detection.core.freezable_batch_norm.FreezableBatchNorm object at 0x000001A76FECC160>, because it is not built.\n",
      "W1005 15:14:29.404091 17536 save_impl.py:71] Skipping full serialization of Keras layer <object_detection.core.freezable_batch_norm.FreezableBatchNorm object at 0x000001A76FECC160>, because it is not built.\n",
      "WARNING:tensorflow:Skipping full serialization of Keras layer <keras.layers.core.lambda_layer.Lambda object at 0x000001A76FECFCA0>, because it is not built.\n",
      "W1005 15:14:29.404091 17536 save_impl.py:71] Skipping full serialization of Keras layer <keras.layers.core.lambda_layer.Lambda object at 0x000001A76FECFCA0>, because it is not built.\n",
      "WARNING:tensorflow:Skipping full serialization of Keras layer <object_detection.core.freezable_batch_norm.FreezableBatchNorm object at 0x000001A76F9D9F60>, because it is not built.\n",
      "W1005 15:14:29.404091 17536 save_impl.py:71] Skipping full serialization of Keras layer <object_detection.core.freezable_batch_norm.FreezableBatchNorm object at 0x000001A76F9D9F60>, because it is not built.\n",
      "WARNING:tensorflow:Skipping full serialization of Keras layer <keras.layers.core.lambda_layer.Lambda object at 0x000001A76F9D8C70>, because it is not built.\n",
      "W1005 15:14:29.404091 17536 save_impl.py:71] Skipping full serialization of Keras layer <keras.layers.core.lambda_layer.Lambda object at 0x000001A76F9D8C70>, because it is not built.\n",
      "WARNING:tensorflow:Skipping full serialization of Keras layer <object_detection.core.freezable_batch_norm.FreezableBatchNorm object at 0x000001A76F9DA770>, because it is not built.\n",
      "W1005 15:14:29.404091 17536 save_impl.py:71] Skipping full serialization of Keras layer <object_detection.core.freezable_batch_norm.FreezableBatchNorm object at 0x000001A76F9DA770>, because it is not built.\n",
      "WARNING:tensorflow:Skipping full serialization of Keras layer <keras.layers.core.lambda_layer.Lambda object at 0x000001A76F9DB070>, because it is not built.\n",
      "W1005 15:14:29.404091 17536 save_impl.py:71] Skipping full serialization of Keras layer <keras.layers.core.lambda_layer.Lambda object at 0x000001A76F9DB070>, because it is not built.\n",
      "WARNING:tensorflow:Skipping full serialization of Keras layer <object_detection.core.freezable_batch_norm.FreezableBatchNorm object at 0x000001A7721EC280>, because it is not built.\n",
      "W1005 15:14:29.404091 17536 save_impl.py:71] Skipping full serialization of Keras layer <object_detection.core.freezable_batch_norm.FreezableBatchNorm object at 0x000001A7721EC280>, because it is not built.\n",
      "WARNING:tensorflow:Skipping full serialization of Keras layer <keras.layers.core.lambda_layer.Lambda object at 0x000001A7721EC610>, because it is not built.\n",
      "W1005 15:14:29.404091 17536 save_impl.py:71] Skipping full serialization of Keras layer <keras.layers.core.lambda_layer.Lambda object at 0x000001A7721EC610>, because it is not built.\n",
      "WARNING:tensorflow:Skipping full serialization of Keras layer <object_detection.core.freezable_batch_norm.FreezableBatchNorm object at 0x000001A7721EC9A0>, because it is not built.\n",
      "W1005 15:14:29.404091 17536 save_impl.py:71] Skipping full serialization of Keras layer <object_detection.core.freezable_batch_norm.FreezableBatchNorm object at 0x000001A7721EC9A0>, because it is not built.\n",
      "WARNING:tensorflow:Skipping full serialization of Keras layer <keras.layers.core.lambda_layer.Lambda object at 0x000001A7721ECB20>, because it is not built.\n",
      "W1005 15:14:29.404091 17536 save_impl.py:71] Skipping full serialization of Keras layer <keras.layers.core.lambda_layer.Lambda object at 0x000001A7721ECB20>, because it is not built.\n",
      "W1005 15:14:45.382594 17536 save.py:233] Found untraced functions such as WeightSharedConvolutionalBoxPredictor_layer_call_fn, WeightSharedConvolutionalBoxPredictor_layer_call_and_return_conditional_losses, WeightSharedConvolutionalBoxHead_layer_call_fn, WeightSharedConvolutionalBoxHead_layer_call_and_return_conditional_losses, WeightSharedConvolutionalClassHead_layer_call_fn while saving (showing 5 of 173). These functions will not be directly callable after loading.\n",
      "INFO:tensorflow:Assets written to: Tensorflow\\workspace\\models\\my_ssd_mobnet\\tfliteexport\\saved_model\\assets\n",
      "I1005 15:14:51.451676 17536 builder_impl.py:779] Assets written to: Tensorflow\\workspace\\models\\my_ssd_mobnet\\tfliteexport\\saved_model\\assets\n"
     ]
    }
   ],
   "source": [
    "!{command}"
   ]
  },
  {
   "cell_type": "code",
   "execution_count": 39,
   "metadata": {
    "id": "iJfYMbN6pfDL"
   },
   "outputs": [],
   "source": [
    "FROZEN_TFLITE_PATH = os.path.join(paths['TFLITE_PATH'], 'saved_model')\n",
    "TFLITE_MODEL = os.path.join(paths['TFLITE_PATH'], 'saved_model', 'detect.tflite')"
   ]
  },
  {
   "cell_type": "code",
   "execution_count": 40,
   "metadata": {},
   "outputs": [],
   "source": [
    "command = \"tflite_convert \\\n",
    "--saved_model_dir={} \\\n",
    "--output_file={} \\\n",
    "--input_shapes=1,300,300,3 \\\n",
    "--input_arrays=normalized_input_image_tensor \\\n",
    "--output_arrays='TFLite_Detection_PostProcess','TFLite_Detection_PostProcess:1','TFLite_Detection_PostProcess:2','TFLite_Detection_PostProcess:3' \\\n",
    "--inference_type=FLOAT \\\n",
    "--allow_custom_ops\".format(FROZEN_TFLITE_PATH, TFLITE_MODEL, )"
   ]
  },
  {
   "cell_type": "code",
   "execution_count": 41,
   "metadata": {
    "colab": {
     "base_uri": "https://localhost:8080/"
    },
    "id": "E8GwUeoFpfDL",
    "outputId": "fac43ea4-cc85-471b-a362-e994b06fd583"
   },
   "outputs": [
    {
     "name": "stdout",
     "output_type": "stream",
     "text": [
      "tflite_convert --saved_model_dir=Tensorflow\\workspace\\models\\my_ssd_mobnet\\tfliteexport\\saved_model --output_file=Tensorflow\\workspace\\models\\my_ssd_mobnet\\tfliteexport\\saved_model\\detect.tflite --input_shapes=1,300,300,3 --input_arrays=normalized_input_image_tensor --output_arrays='TFLite_Detection_PostProcess','TFLite_Detection_PostProcess:1','TFLite_Detection_PostProcess:2','TFLite_Detection_PostProcess:3' --inference_type=FLOAT --allow_custom_ops\n"
     ]
    }
   ],
   "source": [
    "print(command)"
   ]
  },
  {
   "cell_type": "code",
   "execution_count": 42,
   "metadata": {
    "colab": {
     "base_uri": "https://localhost:8080/"
    },
    "id": "Nbd7gqHMpfDL",
    "outputId": "7c8fe6d5-2415-4641-8548-39d425c202f7"
   },
   "outputs": [
    {
     "name": "stdout",
     "output_type": "stream",
     "text": [
      "Estimated count of arithmetic ops: 1.710 G  ops, equivalently 0.855 G  MACs\n"
     ]
    },
    {
     "name": "stderr",
     "output_type": "stream",
     "text": [
      "2022-10-05 15:14:55.008873: W tensorflow/stream_executor/platform/default/dso_loader.cc:64] Could not load dynamic library 'cudart64_110.dll'; dlerror: cudart64_110.dll not found\n",
      "2022-10-05 15:14:55.008918: I tensorflow/stream_executor/cuda/cudart_stub.cc:29] Ignore above cudart dlerror if you do not have a GPU set up on your machine.\n",
      "2022-10-05 15:15:00.416244: W tensorflow/stream_executor/platform/default/dso_loader.cc:64] Could not load dynamic library 'cudart64_110.dll'; dlerror: cudart64_110.dll not found\n",
      "2022-10-05 15:15:00.416479: W tensorflow/stream_executor/platform/default/dso_loader.cc:64] Could not load dynamic library 'cublas64_11.dll'; dlerror: cublas64_11.dll not found\n",
      "2022-10-05 15:15:00.416670: W tensorflow/stream_executor/platform/default/dso_loader.cc:64] Could not load dynamic library 'cublasLt64_11.dll'; dlerror: cublasLt64_11.dll not found\n",
      "2022-10-05 15:15:00.416858: W tensorflow/stream_executor/platform/default/dso_loader.cc:64] Could not load dynamic library 'cufft64_10.dll'; dlerror: cufft64_10.dll not found\n",
      "2022-10-05 15:15:00.417042: W tensorflow/stream_executor/platform/default/dso_loader.cc:64] Could not load dynamic library 'curand64_10.dll'; dlerror: curand64_10.dll not found\n",
      "2022-10-05 15:15:00.417227: W tensorflow/stream_executor/platform/default/dso_loader.cc:64] Could not load dynamic library 'cusolver64_11.dll'; dlerror: cusolver64_11.dll not found\n",
      "2022-10-05 15:15:00.417414: W tensorflow/stream_executor/platform/default/dso_loader.cc:64] Could not load dynamic library 'cusparse64_11.dll'; dlerror: cusparse64_11.dll not found\n",
      "2022-10-05 15:15:00.417595: W tensorflow/stream_executor/platform/default/dso_loader.cc:64] Could not load dynamic library 'cudnn64_8.dll'; dlerror: cudnn64_8.dll not found\n",
      "2022-10-05 15:15:00.417611: W tensorflow/core/common_runtime/gpu/gpu_device.cc:1850] Cannot dlopen some GPU libraries. Please make sure the missing libraries mentioned above are installed properly if you would like to use GPU. Follow the guide at https://www.tensorflow.org/install/gpu for how to download and setup the required libraries for your platform.\n",
      "Skipping registering GPU devices...\n",
      "2022-10-05 15:15:00.931044: I tensorflow/core/platform/cpu_feature_guard.cc:193] This TensorFlow binary is optimized with oneAPI Deep Neural Network Library (oneDNN) to use the following CPU instructions in performance-critical operations:  AVX AVX2\n",
      "To enable them in other operations, rebuild TensorFlow with the appropriate compiler flags.\n",
      "2022-10-05 15:15:12.484235: W tensorflow/compiler/mlir/lite/python/tf_tfl_flatbuffer_helpers.cc:362] Ignored output_format.\n",
      "2022-10-05 15:15:12.484266: W tensorflow/compiler/mlir/lite/python/tf_tfl_flatbuffer_helpers.cc:365] Ignored drop_control_dependency.\n",
      "2022-10-05 15:15:12.545927: I tensorflow/cc/saved_model/reader.cc:43] Reading SavedModel from: Tensorflow\\workspace\\models\\my_ssd_mobnet\\tfliteexport\\saved_model\n",
      "2022-10-05 15:15:12.655754: I tensorflow/cc/saved_model/reader.cc:81] Reading meta graph with tags { serve }\n",
      "2022-10-05 15:15:12.655993: I tensorflow/cc/saved_model/reader.cc:122] Reading SavedModel debug info (if present) from: Tensorflow\\workspace\\models\\my_ssd_mobnet\\tfliteexport\\saved_model\n",
      "2022-10-05 15:15:12.943160: I tensorflow/compiler/mlir/mlir_graph_optimization_pass.cc:354] MLIR V1 optimization pass is not enabled\n",
      "2022-10-05 15:15:12.989577: I tensorflow/cc/saved_model/loader.cc:228] Restoring SavedModel bundle.\n",
      "2022-10-05 15:15:14.148894: I tensorflow/cc/saved_model/loader.cc:212] Running initialization op on SavedModel bundle at path: Tensorflow\\workspace\\models\\my_ssd_mobnet\\tfliteexport\\saved_model\n",
      "2022-10-05 15:15:14.771439: I tensorflow/cc/saved_model/loader.cc:301] SavedModel load for tags { serve }; Status: success: OK. Took 2225520 microseconds.\n",
      "2022-10-05 15:15:15.960217: I tensorflow/compiler/mlir/tensorflow/utils/dump_mlir_util.cc:263] disabling MLIR crash reproducer, set env var `MLIR_CRASH_REPRODUCER_DIRECTORY` to enable.\n",
      "2022-10-05 15:15:17.626645: I tensorflow/compiler/mlir/lite/flatbuffer_export.cc:1972] Estimated count of arithmetic ops: 1.710 G  ops, equivalently 0.855 G  MACs\n",
      "\n"
     ]
    }
   ],
   "source": [
    "!{command}"
   ]
  },
  {
   "cell_type": "markdown",
   "metadata": {
    "id": "5NQqZRdA21Uc"
   },
   "source": [
    "# 13. Zip and Export Models "
   ]
  },
  {
   "cell_type": "code",
   "execution_count": 44,
   "metadata": {
    "id": "tTVTGCQp2ZJJ"
   },
   "outputs": [],
   "source": [
    "!tar -czf models.tar.gz {paths['CHECKPOINT_PATH']}"
   ]
  },
  {
   "cell_type": "code",
   "execution_count": null,
   "metadata": {
    "colab": {
     "base_uri": "https://localhost:8080/"
    },
    "id": "whShhB0x3PYJ",
    "outputId": "b773201d-35c9-46a8-b893-4a76bd4d5d97"
   },
   "outputs": [],
   "source": [
    "from google.colab import drive\n",
    "drive.mount('/content/drive')"
   ]
  }
 ],
 "metadata": {
  "accelerator": "GPU",
  "colab": {
   "name": "3. Training and Detection.ipynb",
   "provenance": []
  },
  "kernelspec": {
   "display_name": "tfodj",
   "language": "python",
   "name": "tfodj"
  },
  "language_info": {
   "codemirror_mode": {
    "name": "ipython",
    "version": 3
   },
   "file_extension": ".py",
   "mimetype": "text/x-python",
   "name": "python",
   "nbconvert_exporter": "python",
   "pygments_lexer": "ipython3",
   "version": "3.10.6"
  }
 },
 "nbformat": 4,
 "nbformat_minor": 1
}
